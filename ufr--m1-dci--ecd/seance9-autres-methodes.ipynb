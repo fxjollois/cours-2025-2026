{
 "cells": [
  {
   "cell_type": "markdown",
   "id": "7e079109",
   "metadata": {},
   "source": [
    "# Extraction de connaissances à partir de données structurées et non structurées\n",
    "\n",
    "## Séance 9 : Quelques méthodes alternatives\n",
    "\n",
    "Nous allons voir ici l'utilisation de quelques méthodes de représentation de données et de classification, complémentaires de celles déjà vu en cours. L'avantage de `scikit-learn` est de proposer un grand nombre de méthodes de machine learning.\n",
    "\n",
    "Pour mettre en ouevre ces méthodes, nous allons utilisé le jeu de données Iris, déjà largement vu en cours."
   ]
  },
  {
   "cell_type": "code",
   "execution_count": 1,
   "id": "864fe11f",
   "metadata": {},
   "outputs": [
    {
     "data": {
      "text/html": [
       "<div>\n",
       "<style scoped>\n",
       "    .dataframe tbody tr th:only-of-type {\n",
       "        vertical-align: middle;\n",
       "    }\n",
       "\n",
       "    .dataframe tbody tr th {\n",
       "        vertical-align: top;\n",
       "    }\n",
       "\n",
       "    .dataframe thead th {\n",
       "        text-align: right;\n",
       "    }\n",
       "</style>\n",
       "<table border=\"1\" class=\"dataframe\">\n",
       "  <thead>\n",
       "    <tr style=\"text-align: right;\">\n",
       "      <th></th>\n",
       "      <th>Sepal Length</th>\n",
       "      <th>Sepal Width</th>\n",
       "      <th>Petal Length</th>\n",
       "      <th>Petal Width</th>\n",
       "    </tr>\n",
       "  </thead>\n",
       "  <tbody>\n",
       "    <tr>\n",
       "      <th>0</th>\n",
       "      <td>5.1</td>\n",
       "      <td>3.5</td>\n",
       "      <td>1.4</td>\n",
       "      <td>0.2</td>\n",
       "    </tr>\n",
       "    <tr>\n",
       "      <th>1</th>\n",
       "      <td>4.9</td>\n",
       "      <td>3.0</td>\n",
       "      <td>1.4</td>\n",
       "      <td>0.2</td>\n",
       "    </tr>\n",
       "    <tr>\n",
       "      <th>2</th>\n",
       "      <td>4.7</td>\n",
       "      <td>3.2</td>\n",
       "      <td>1.3</td>\n",
       "      <td>0.2</td>\n",
       "    </tr>\n",
       "    <tr>\n",
       "      <th>3</th>\n",
       "      <td>4.6</td>\n",
       "      <td>3.1</td>\n",
       "      <td>1.5</td>\n",
       "      <td>0.2</td>\n",
       "    </tr>\n",
       "    <tr>\n",
       "      <th>4</th>\n",
       "      <td>5.0</td>\n",
       "      <td>3.6</td>\n",
       "      <td>1.4</td>\n",
       "      <td>0.2</td>\n",
       "    </tr>\n",
       "  </tbody>\n",
       "</table>\n",
       "</div>"
      ],
      "text/plain": [
       "   Sepal Length  Sepal Width  Petal Length  Petal Width\n",
       "0           5.1          3.5           1.4          0.2\n",
       "1           4.9          3.0           1.4          0.2\n",
       "2           4.7          3.2           1.3          0.2\n",
       "3           4.6          3.1           1.5          0.2\n",
       "4           5.0          3.6           1.4          0.2"
      ]
     },
     "execution_count": 1,
     "metadata": {},
     "output_type": "execute_result"
    }
   ],
   "source": [
    "import seaborn\n",
    "import pandas\n",
    "\n",
    "iris = pandas.read_table(\"https://fxjollois.github.io/donnees/Iris.txt\", sep = \"\\t\")\n",
    "iris_num = iris.iloc[:,:4]\n",
    "iris_num.head()"
   ]
  },
  {
   "cell_type": "markdown",
   "id": "5d38597a",
   "metadata": {},
   "source": [
    "## Représentation de données\n",
    "\n",
    "Pour la réprésentation des données, nous allons voir trois méthodes différentes dans la suite : *Isomap*, *LLE* et *MDS*. Notez que ces trois méthodes permettent de récupérer les coordonnées des points dans un sous-espace. Il est bien évidemment possible (et même recommander éventuellement) d'utiliser ces coordonnées pour réaliser une opération telle que la classification (avec $k$-means ou une *CAH*).\n",
    "\n",
    "Toutes ces méthodes sont incluses dans le sous-module `manifold` de la librairie `sklearn`."
   ]
  },
  {
   "cell_type": "code",
   "execution_count": 2,
   "id": "742ba59a",
   "metadata": {},
   "outputs": [],
   "source": [
    "from sklearn import manifold"
   ]
  },
  {
   "cell_type": "markdown",
   "id": "ccfe57e8",
   "metadata": {},
   "source": [
    "### Isomap\n",
    "\n",
    "Méthode probablement la plus utilisée, elle vise à modéliser les relations géométriques non-linéaires entre les individus. Pour cela, elle utilise les distances géodésiques. Elle a pour but principal de représenter des relations spatiales ou temporelles."
   ]
  },
  {
   "cell_type": "code",
   "execution_count": 3,
   "id": "8ba42f5c",
   "metadata": {},
   "outputs": [
    {
     "data": {
      "text/html": [
       "<div>\n",
       "<style scoped>\n",
       "    .dataframe tbody tr th:only-of-type {\n",
       "        vertical-align: middle;\n",
       "    }\n",
       "\n",
       "    .dataframe tbody tr th {\n",
       "        vertical-align: top;\n",
       "    }\n",
       "\n",
       "    .dataframe thead th {\n",
       "        text-align: right;\n",
       "    }\n",
       "</style>\n",
       "<table border=\"1\" class=\"dataframe\">\n",
       "  <thead>\n",
       "    <tr style=\"text-align: right;\">\n",
       "      <th></th>\n",
       "      <th>X</th>\n",
       "      <th>Y</th>\n",
       "    </tr>\n",
       "  </thead>\n",
       "  <tbody>\n",
       "    <tr>\n",
       "      <th>0</th>\n",
       "      <td>-2.986495</td>\n",
       "      <td>-0.093766</td>\n",
       "    </tr>\n",
       "    <tr>\n",
       "      <th>1</th>\n",
       "      <td>-3.054932</td>\n",
       "      <td>-0.094380</td>\n",
       "    </tr>\n",
       "    <tr>\n",
       "      <th>2</th>\n",
       "      <td>-3.211404</td>\n",
       "      <td>-0.114591</td>\n",
       "    </tr>\n",
       "    <tr>\n",
       "      <th>3</th>\n",
       "      <td>-3.184169</td>\n",
       "      <td>-0.102344</td>\n",
       "    </tr>\n",
       "    <tr>\n",
       "      <th>4</th>\n",
       "      <td>-3.043833</td>\n",
       "      <td>-0.094985</td>\n",
       "    </tr>\n",
       "    <tr>\n",
       "      <th>...</th>\n",
       "      <td>...</td>\n",
       "      <td>...</td>\n",
       "    </tr>\n",
       "    <tr>\n",
       "      <th>145</th>\n",
       "      <td>2.272376</td>\n",
       "      <td>-0.096641</td>\n",
       "    </tr>\n",
       "    <tr>\n",
       "      <th>146</th>\n",
       "      <td>1.796300</td>\n",
       "      <td>0.353651</td>\n",
       "    </tr>\n",
       "    <tr>\n",
       "      <th>147</th>\n",
       "      <td>2.031000</td>\n",
       "      <td>-0.046682</td>\n",
       "    </tr>\n",
       "    <tr>\n",
       "      <th>148</th>\n",
       "      <td>2.212726</td>\n",
       "      <td>0.201270</td>\n",
       "    </tr>\n",
       "    <tr>\n",
       "      <th>149</th>\n",
       "      <td>1.597612</td>\n",
       "      <td>0.308557</td>\n",
       "    </tr>\n",
       "  </tbody>\n",
       "</table>\n",
       "<p>150 rows × 2 columns</p>\n",
       "</div>"
      ],
      "text/plain": [
       "            X         Y\n",
       "0   -2.986495 -0.093766\n",
       "1   -3.054932 -0.094380\n",
       "2   -3.211404 -0.114591\n",
       "3   -3.184169 -0.102344\n",
       "4   -3.043833 -0.094985\n",
       "..        ...       ...\n",
       "145  2.272376 -0.096641\n",
       "146  1.796300  0.353651\n",
       "147  2.031000 -0.046682\n",
       "148  2.212726  0.201270\n",
       "149  1.597612  0.308557\n",
       "\n",
       "[150 rows x 2 columns]"
      ]
     },
     "execution_count": 3,
     "metadata": {},
     "output_type": "execute_result"
    }
   ],
   "source": [
    "isomap = manifold.Isomap(n_components = 2, n_neighbors = 25)\n",
    "res = isomap.fit_transform(iris_num)\n",
    "\n",
    "res_df = pandas.DataFrame(res, columns = [\"X\", \"Y\"])\n",
    "res_df"
   ]
  },
  {
   "cell_type": "markdown",
   "id": "8dd8614a",
   "metadata": {},
   "source": [
    "On voit ci-dessous que la représentation respectent mieux les espèces, en particulier la séparation *versicolor* et *virginica* est plus visible."
   ]
  },
  {
   "cell_type": "code",
   "execution_count": 4,
   "id": "00877d9b",
   "metadata": {},
   "outputs": [
    {
     "data": {
      "image/png": "[encoded data removed]",
      "text/plain": [
       "<Figure size 640x480 with 1 Axes>"
      ]
     },
     "metadata": {},
     "output_type": "display_data"
    }
   ],
   "source": [
    "g = seaborn.scatterplot(res_df.assign(Species = iris[\"Species\"]),\n",
    "                        x = \"X\", y = \"Y\", hue = \"Species\")"
   ]
  },
  {
   "cell_type": "markdown",
   "id": "39675866",
   "metadata": {},
   "source": [
    "### Locally Linear Embedding (*LLE*)\n",
    "\n",
    "L'idée de cette méthode est de représenter les données en conservant les distances localement, chaque point étant représenter par une combinaison linéaire de ses voisins. Le but premier est de pouvoir apprendre les structures non-linéaires, comme pour les images et les documents textuels."
   ]
  },
  {
   "cell_type": "code",
   "execution_count": 5,
   "id": "3f575069",
   "metadata": {},
   "outputs": [
    {
     "data": {
      "text/html": [
       "<div>\n",
       "<style scoped>\n",
       "    .dataframe tbody tr th:only-of-type {\n",
       "        vertical-align: middle;\n",
       "    }\n",
       "\n",
       "    .dataframe tbody tr th {\n",
       "        vertical-align: top;\n",
       "    }\n",
       "\n",
       "    .dataframe thead th {\n",
       "        text-align: right;\n",
       "    }\n",
       "</style>\n",
       "<table border=\"1\" class=\"dataframe\">\n",
       "  <thead>\n",
       "    <tr style=\"text-align: right;\">\n",
       "      <th></th>\n",
       "      <th>X</th>\n",
       "      <th>Y</th>\n",
       "    </tr>\n",
       "  </thead>\n",
       "  <tbody>\n",
       "    <tr>\n",
       "      <th>0</th>\n",
       "      <td>-0.105037</td>\n",
       "      <td>-0.033316</td>\n",
       "    </tr>\n",
       "    <tr>\n",
       "      <th>1</th>\n",
       "      <td>-0.104307</td>\n",
       "      <td>-0.035156</td>\n",
       "    </tr>\n",
       "    <tr>\n",
       "      <th>2</th>\n",
       "      <td>-0.105433</td>\n",
       "      <td>-0.053949</td>\n",
       "    </tr>\n",
       "    <tr>\n",
       "      <th>3</th>\n",
       "      <td>-0.104845</td>\n",
       "      <td>-0.048971</td>\n",
       "    </tr>\n",
       "    <tr>\n",
       "      <th>4</th>\n",
       "      <td>-0.105459</td>\n",
       "      <td>-0.040526</td>\n",
       "    </tr>\n",
       "    <tr>\n",
       "      <th>...</th>\n",
       "      <td>...</td>\n",
       "      <td>...</td>\n",
       "    </tr>\n",
       "    <tr>\n",
       "      <th>145</th>\n",
       "      <td>0.081336</td>\n",
       "      <td>-0.029264</td>\n",
       "    </tr>\n",
       "    <tr>\n",
       "      <th>146</th>\n",
       "      <td>0.060954</td>\n",
       "      <td>0.061371</td>\n",
       "    </tr>\n",
       "    <tr>\n",
       "      <th>147</th>\n",
       "      <td>0.072306</td>\n",
       "      <td>-0.009316</td>\n",
       "    </tr>\n",
       "    <tr>\n",
       "      <th>148</th>\n",
       "      <td>0.083073</td>\n",
       "      <td>0.024422</td>\n",
       "    </tr>\n",
       "    <tr>\n",
       "      <th>149</th>\n",
       "      <td>0.058060</td>\n",
       "      <td>0.076859</td>\n",
       "    </tr>\n",
       "  </tbody>\n",
       "</table>\n",
       "<p>150 rows × 2 columns</p>\n",
       "</div>"
      ],
      "text/plain": [
       "            X         Y\n",
       "0   -0.105037 -0.033316\n",
       "1   -0.104307 -0.035156\n",
       "2   -0.105433 -0.053949\n",
       "3   -0.104845 -0.048971\n",
       "4   -0.105459 -0.040526\n",
       "..        ...       ...\n",
       "145  0.081336 -0.029264\n",
       "146  0.060954  0.061371\n",
       "147  0.072306 -0.009316\n",
       "148  0.083073  0.024422\n",
       "149  0.058060  0.076859\n",
       "\n",
       "[150 rows x 2 columns]"
      ]
     },
     "execution_count": 5,
     "metadata": {},
     "output_type": "execute_result"
    }
   ],
   "source": [
    "lle = manifold.LocallyLinearEmbedding(n_components = 2, n_neighbors = 25)\n",
    "res = lle.fit_transform(iris_num)\n",
    "\n",
    "res_df = pandas.DataFrame(res, columns = [\"X\", \"Y\"])\n",
    "res_df"
   ]
  },
  {
   "cell_type": "markdown",
   "id": "3c62440a",
   "metadata": {},
   "source": [
    "Ici aussi, le résultat est très intéressant pour cette séparation entre les deux espèces proches."
   ]
  },
  {
   "cell_type": "code",
   "execution_count": 6,
   "id": "636dc19a",
   "metadata": {},
   "outputs": [
    {
     "data": {
      "image/png": "[encoded data removed]",
      "text/plain": [
       "<Figure size 640x480 with 1 Axes>"
      ]
     },
     "metadata": {},
     "output_type": "display_data"
    }
   ],
   "source": [
    "g = seaborn.scatterplot(res_df.assign(Species = iris[\"Species\"]),\n",
    "                        x = \"X\", y = \"Y\", hue = \"Species\")"
   ]
  },
  {
   "cell_type": "markdown",
   "id": "e760c343",
   "metadata": {},
   "source": [
    "## Multi-Dimensionnal Scaling (*MDS*)\n",
    "\n",
    "Cette méthode cherche à calculer des disparités dans le sous-espace, qui sont des transformations des distances (ou dissimilarités) entre les points dans l'espace d'origine."
   ]
  },
  {
   "cell_type": "code",
   "execution_count": 7,
   "id": "aa78e764",
   "metadata": {},
   "outputs": [
    {
     "data": {
      "text/html": [
       "<div>\n",
       "<style scoped>\n",
       "    .dataframe tbody tr th:only-of-type {\n",
       "        vertical-align: middle;\n",
       "    }\n",
       "\n",
       "    .dataframe tbody tr th {\n",
       "        vertical-align: top;\n",
       "    }\n",
       "\n",
       "    .dataframe thead th {\n",
       "        text-align: right;\n",
       "    }\n",
       "</style>\n",
       "<table border=\"1\" class=\"dataframe\">\n",
       "  <thead>\n",
       "    <tr style=\"text-align: right;\">\n",
       "      <th></th>\n",
       "      <th>X</th>\n",
       "      <th>Y</th>\n",
       "    </tr>\n",
       "  </thead>\n",
       "  <tbody>\n",
       "    <tr>\n",
       "      <th>0</th>\n",
       "      <td>-1.534220</td>\n",
       "      <td>-2.239563</td>\n",
       "    </tr>\n",
       "    <tr>\n",
       "      <th>1</th>\n",
       "      <td>-1.069020</td>\n",
       "      <td>-2.515981</td>\n",
       "    </tr>\n",
       "    <tr>\n",
       "      <th>2</th>\n",
       "      <td>-1.221717</td>\n",
       "      <td>-2.637333</td>\n",
       "    </tr>\n",
       "    <tr>\n",
       "      <th>3</th>\n",
       "      <td>-0.976281</td>\n",
       "      <td>-2.597630</td>\n",
       "    </tr>\n",
       "    <tr>\n",
       "      <th>4</th>\n",
       "      <td>-1.581215</td>\n",
       "      <td>-2.270318</td>\n",
       "    </tr>\n",
       "    <tr>\n",
       "      <th>...</th>\n",
       "      <td>...</td>\n",
       "      <td>...</td>\n",
       "    </tr>\n",
       "    <tr>\n",
       "      <th>145</th>\n",
       "      <td>0.893697</td>\n",
       "      <td>1.812380</td>\n",
       "    </tr>\n",
       "    <tr>\n",
       "      <th>146</th>\n",
       "      <td>1.014434</td>\n",
       "      <td>1.187975</td>\n",
       "    </tr>\n",
       "    <tr>\n",
       "      <th>147</th>\n",
       "      <td>0.840210</td>\n",
       "      <td>1.574532</td>\n",
       "    </tr>\n",
       "    <tr>\n",
       "      <th>148</th>\n",
       "      <td>1.446167</td>\n",
       "      <td>1.531978</td>\n",
       "    </tr>\n",
       "    <tr>\n",
       "      <th>149</th>\n",
       "      <td>1.065510</td>\n",
       "      <td>1.031443</td>\n",
       "    </tr>\n",
       "  </tbody>\n",
       "</table>\n",
       "<p>150 rows × 2 columns</p>\n",
       "</div>"
      ],
      "text/plain": [
       "            X         Y\n",
       "0   -1.534220 -2.239563\n",
       "1   -1.069020 -2.515981\n",
       "2   -1.221717 -2.637333\n",
       "3   -0.976281 -2.597630\n",
       "4   -1.581215 -2.270318\n",
       "..        ...       ...\n",
       "145  0.893697  1.812380\n",
       "146  1.014434  1.187975\n",
       "147  0.840210  1.574532\n",
       "148  1.446167  1.531978\n",
       "149  1.065510  1.031443\n",
       "\n",
       "[150 rows x 2 columns]"
      ]
     },
     "execution_count": 7,
     "metadata": {},
     "output_type": "execute_result"
    }
   ],
   "source": [
    "mds = manifold.MDS(n_components = 2, normalized_stress = \"auto\")\n",
    "res = mds.fit_transform(iris_num)\n",
    "\n",
    "res_df = pandas.DataFrame(res, columns = [\"X\", \"Y\"])\n",
    "res_df"
   ]
  },
  {
   "cell_type": "markdown",
   "id": "cd49b064",
   "metadata": {},
   "source": [
    "Bien que la séparation soit moins net que sur les deux autres méthodes, elle est plus marquée qu'avec une ACP. Par contre, la méthode ayant une initialisation aléatoire, les résultats peuvent différer d'une exécution à l'autre."
   ]
  },
  {
   "cell_type": "code",
   "execution_count": 8,
   "id": "e64a9eab",
   "metadata": {},
   "outputs": [
    {
     "data": {
      "image/png": "[encoded data removed]",
      "text/plain": [
       "<Figure size 640x480 with 1 Axes>"
      ]
     },
     "metadata": {},
     "output_type": "display_data"
    }
   ],
   "source": [
    "g = seaborn.scatterplot(res_df.assign(Species = iris[\"Species\"]),\n",
    "                        x = \"X\", y = \"Y\", hue = \"Species\")"
   ]
  },
  {
   "cell_type": "markdown",
   "id": "53825d7c",
   "metadata": {},
   "source": [
    "## Méthodes de classification\n",
    "\n",
    "### DBSCAN\n",
    "\n",
    "Cet algorithme se base sur une notion de densité dans les données (définie globalement). Un individu est dit *directement accessible* à un autre individu si la distance entre les deux est plus petite qu’un seuil défini en amont. Et 2 individus sont dit *accessibles* entre eux s’il existe une chaîne de points directement accessible 2 à 2 entre les deux. Une classe est donc composée d’individus accessibles entre eux.\n",
    "\n",
    "Un point intéressant est la capacité de la méthode à déterminer que des points sont des *outliers* et donc à ne les classer dans aucune classe."
   ]
  },
  {
   "cell_type": "code",
   "execution_count": 9,
   "id": "fedf9ef1",
   "metadata": {},
   "outputs": [
    {
     "data": {
      "text/html": [
       "<style>#sk-container-id-1 {color: black;}#sk-container-id-1 pre{padding: 0;}#sk-container-id-1 div.sk-toggleable {background-color: white;}#sk-container-id-1 label.sk-toggleable__label {cursor: pointer;display: block;width: 100%;margin-bottom: 0;padding: 0.3em;box-sizing: border-box;text-align: center;}#sk-container-id-1 label.sk-toggleable__label-arrow:before {content: \"▸\";float: left;margin-right: 0.25em;color: #696969;}#sk-container-id-1 label.sk-toggleable__label-arrow:hover:before {color: black;}#sk-container-id-1 div.sk-estimator:hover label.sk-toggleable__label-arrow:before {color: black;}#sk-container-id-1 div.sk-toggleable__content {max-height: 0;max-width: 0;overflow: hidden;text-align: left;background-color: #f0f8ff;}#sk-container-id-1 div.sk-toggleable__content pre {margin: 0.2em;color: black;border-radius: 0.25em;background-color: #f0f8ff;}#sk-container-id-1 input.sk-toggleable__control:checked~div.sk-toggleable__content {max-height: 200px;max-width: 100%;overflow: auto;}#sk-container-id-1 input.sk-toggleable__control:checked~label.sk-toggleable__label-arrow:before {content: \"▾\";}#sk-container-id-1 div.sk-estimator input.sk-toggleable__control:checked~label.sk-toggleable__label {background-color: #d4ebff;}#sk-container-id-1 div.sk-label input.sk-toggleable__control:checked~label.sk-toggleable__label {background-color: #d4ebff;}#sk-container-id-1 input.sk-hidden--visually {border: 0;clip: rect(1px 1px 1px 1px);clip: rect(1px, 1px, 1px, 1px);height: 1px;margin: -1px;overflow: hidden;padding: 0;position: absolute;width: 1px;}#sk-container-id-1 div.sk-estimator {font-family: monospace;background-color: #f0f8ff;border: 1px dotted black;border-radius: 0.25em;box-sizing: border-box;margin-bottom: 0.5em;}#sk-container-id-1 div.sk-estimator:hover {background-color: #d4ebff;}#sk-container-id-1 div.sk-parallel-item::after {content: \"\";width: 100%;border-bottom: 1px solid gray;flex-grow: 1;}#sk-container-id-1 div.sk-label:hover label.sk-toggleable__label {background-color: #d4ebff;}#sk-container-id-1 div.sk-serial::before {content: \"\";position: absolute;border-left: 1px solid gray;box-sizing: border-box;top: 0;bottom: 0;left: 50%;z-index: 0;}#sk-container-id-1 div.sk-serial {display: flex;flex-direction: column;align-items: center;background-color: white;padding-right: 0.2em;padding-left: 0.2em;position: relative;}#sk-container-id-1 div.sk-item {position: relative;z-index: 1;}#sk-container-id-1 div.sk-parallel {display: flex;align-items: stretch;justify-content: center;background-color: white;position: relative;}#sk-container-id-1 div.sk-item::before, #sk-container-id-1 div.sk-parallel-item::before {content: \"\";position: absolute;border-left: 1px solid gray;box-sizing: border-box;top: 0;bottom: 0;left: 50%;z-index: -1;}#sk-container-id-1 div.sk-parallel-item {display: flex;flex-direction: column;z-index: 1;position: relative;background-color: white;}#sk-container-id-1 div.sk-parallel-item:first-child::after {align-self: flex-end;width: 50%;}#sk-container-id-1 div.sk-parallel-item:last-child::after {align-self: flex-start;width: 50%;}#sk-container-id-1 div.sk-parallel-item:only-child::after {width: 0;}#sk-container-id-1 div.sk-dashed-wrapped {border: 1px dashed gray;margin: 0 0.4em 0.5em 0.4em;box-sizing: border-box;padding-bottom: 0.4em;background-color: white;}#sk-container-id-1 div.sk-label label {font-family: monospace;font-weight: bold;display: inline-block;line-height: 1.2em;}#sk-container-id-1 div.sk-label-container {text-align: center;}#sk-container-id-1 div.sk-container {/* jupyter's `normalize.less` sets `[hidden] { display: none; }` but bootstrap.min.css set `[hidden] { display: none !important; }` so we also need the `!important` here to be able to override the default hidden behavior on the sphinx rendered scikit-learn.org. See: https://github.com/scikit-learn/scikit-learn/issues/21755 */display: inline-block !important;position: relative;}#sk-container-id-1 div.sk-text-repr-fallback {display: none;}</style><div id=\"sk-container-id-1\" class=\"sk-top-container\"><div class=\"sk-text-repr-fallback\"><pre>DBSCAN(eps=0.75, min_samples=10)</pre><b>In a Jupyter environment, please rerun this cell to show the HTML representation or trust the notebook. <br />On GitHub, the HTML representation is unable to render, please try loading this page with nbviewer.org.</b></div><div class=\"sk-container\" hidden><div class=\"sk-item\"><div class=\"sk-estimator sk-toggleable\"><input class=\"sk-toggleable__control sk-hidden--visually\" id=\"sk-estimator-id-1\" type=\"checkbox\" checked><label for=\"sk-estimator-id-1\" class=\"sk-toggleable__label sk-toggleable__label-arrow\">DBSCAN</label><div class=\"sk-toggleable__content\"><pre>DBSCAN(eps=0.75, min_samples=10)</pre></div></div></div></div></div>"
      ],
      "text/plain": [
       "DBSCAN(eps=0.75, min_samples=10)"
      ]
     },
     "execution_count": 9,
     "metadata": {},
     "output_type": "execute_result"
    }
   ],
   "source": [
    "from sklearn.cluster import DBSCAN\n",
    "\n",
    "db = DBSCAN(eps = 0.75, min_samples = 10).fit(iris_num)\n",
    "db"
   ]
  },
  {
   "cell_type": "markdown",
   "id": "6be8bc31",
   "metadata": {},
   "source": [
    "Le fonctionnement de cette fonction est similaire à celui de la fonction `KMeans()` déjà vue en cours. On peut ainsi récupérer la partition. Les valeurs *-1$ indiquent que l'individu est considéré comme un outlier."
   ]
  },
  {
   "cell_type": "code",
   "execution_count": 10,
   "id": "b12df327",
   "metadata": {},
   "outputs": [
    {
     "data": {
      "text/plain": [
       "array([ 0,  0,  0,  0,  0,  0,  0,  0,  0,  0,  0,  0,  0,  0,  0,  0,  0,\n",
       "        0,  0,  0,  0,  0,  0,  0,  0,  0,  0,  0,  0,  0,  0,  0,  0,  0,\n",
       "        0,  0,  0,  0,  0,  0,  0,  0,  0,  0,  0,  0,  0,  0,  0,  0,  1,\n",
       "        1,  1,  1,  1,  1,  1,  1,  1,  1,  1,  1,  1,  1,  1,  1,  1,  1,\n",
       "        1,  1,  1,  1,  1,  1,  1,  1,  1,  1,  1,  1,  1,  1,  1,  1,  1,\n",
       "        1,  1,  1,  1,  1,  1,  1,  1,  1,  1,  1,  1,  1, -1,  1,  1,  1,\n",
       "        1,  1,  1, -1,  1,  1,  1,  1,  1,  1,  1,  1,  1,  1,  1, -1, -1,\n",
       "        1,  1,  1, -1,  1,  1,  1,  1,  1,  1,  1,  1, -1,  1,  1,  1,  1,\n",
       "        1,  1,  1,  1,  1,  1,  1,  1,  1,  1,  1,  1,  1,  1])"
      ]
     },
     "execution_count": 10,
     "metadata": {},
     "output_type": "execute_result"
    }
   ],
   "source": [
    "db.labels_"
   ]
  },
  {
   "cell_type": "markdown",
   "id": "27e4741d",
   "metadata": {},
   "source": [
    "En comparant la partition obtenue avec les espèces, on remarque que la méthode a séparé les setosa des 2 autres, mais qu'elle est incapcable de séparer *versicolor* et *virginica*. Ceci est dû à l'effet de chaîne, inhérent à la méthode. "
   ]
  },
  {
   "cell_type": "code",
   "execution_count": 11,
   "id": "7cca7d40",
   "metadata": {},
   "outputs": [
    {
     "data": {
      "text/html": [
       "<div>\n",
       "<style scoped>\n",
       "    .dataframe tbody tr th:only-of-type {\n",
       "        vertical-align: middle;\n",
       "    }\n",
       "\n",
       "    .dataframe tbody tr th {\n",
       "        vertical-align: top;\n",
       "    }\n",
       "\n",
       "    .dataframe thead th {\n",
       "        text-align: right;\n",
       "    }\n",
       "</style>\n",
       "<table border=\"1\" class=\"dataframe\">\n",
       "  <thead>\n",
       "    <tr style=\"text-align: right;\">\n",
       "      <th>Species</th>\n",
       "      <th>setosa</th>\n",
       "      <th>versicolor</th>\n",
       "      <th>virginica</th>\n",
       "    </tr>\n",
       "    <tr>\n",
       "      <th>row_0</th>\n",
       "      <th></th>\n",
       "      <th></th>\n",
       "      <th></th>\n",
       "    </tr>\n",
       "  </thead>\n",
       "  <tbody>\n",
       "    <tr>\n",
       "      <th>-1</th>\n",
       "      <td>0</td>\n",
       "      <td>1</td>\n",
       "      <td>5</td>\n",
       "    </tr>\n",
       "    <tr>\n",
       "      <th>0</th>\n",
       "      <td>50</td>\n",
       "      <td>0</td>\n",
       "      <td>0</td>\n",
       "    </tr>\n",
       "    <tr>\n",
       "      <th>1</th>\n",
       "      <td>0</td>\n",
       "      <td>49</td>\n",
       "      <td>45</td>\n",
       "    </tr>\n",
       "  </tbody>\n",
       "</table>\n",
       "</div>"
      ],
      "text/plain": [
       "Species  setosa  versicolor  virginica\n",
       "row_0                                 \n",
       "-1            0           1          5\n",
       " 0           50           0          0\n",
       " 1            0          49         45"
      ]
     },
     "execution_count": 11,
     "metadata": {},
     "output_type": "execute_result"
    }
   ],
   "source": [
    "pandas.crosstab(db.labels_, iris.Species)"
   ]
  },
  {
   "cell_type": "markdown",
   "id": "05382b15",
   "metadata": {},
   "source": [
    "En réduisant la valeur de `eps` et de `min_samples` (taille minimale d'une classe), on remarque que la méthode déclare beaucoup d'individus comme outliers."
   ]
  },
  {
   "cell_type": "code",
   "execution_count": 12,
   "id": "d1f1b551",
   "metadata": {},
   "outputs": [
    {
     "data": {
      "text/html": [
       "<div>\n",
       "<style scoped>\n",
       "    .dataframe tbody tr th:only-of-type {\n",
       "        vertical-align: middle;\n",
       "    }\n",
       "\n",
       "    .dataframe tbody tr th {\n",
       "        vertical-align: top;\n",
       "    }\n",
       "\n",
       "    .dataframe thead th {\n",
       "        text-align: right;\n",
       "    }\n",
       "</style>\n",
       "<table border=\"1\" class=\"dataframe\">\n",
       "  <thead>\n",
       "    <tr style=\"text-align: right;\">\n",
       "      <th>Species</th>\n",
       "      <th>setosa</th>\n",
       "      <th>versicolor</th>\n",
       "      <th>virginica</th>\n",
       "    </tr>\n",
       "    <tr>\n",
       "      <th>row_0</th>\n",
       "      <th></th>\n",
       "      <th></th>\n",
       "      <th></th>\n",
       "    </tr>\n",
       "  </thead>\n",
       "  <tbody>\n",
       "    <tr>\n",
       "      <th>-1</th>\n",
       "      <td>17</td>\n",
       "      <td>45</td>\n",
       "      <td>50</td>\n",
       "    </tr>\n",
       "    <tr>\n",
       "      <th>0</th>\n",
       "      <td>33</td>\n",
       "      <td>0</td>\n",
       "      <td>0</td>\n",
       "    </tr>\n",
       "    <tr>\n",
       "      <th>1</th>\n",
       "      <td>0</td>\n",
       "      <td>5</td>\n",
       "      <td>0</td>\n",
       "    </tr>\n",
       "  </tbody>\n",
       "</table>\n",
       "</div>"
      ],
      "text/plain": [
       "Species  setosa  versicolor  virginica\n",
       "row_0                                 \n",
       "-1           17          45         50\n",
       " 0           33           0          0\n",
       " 1            0           5          0"
      ]
     },
     "execution_count": 12,
     "metadata": {},
     "output_type": "execute_result"
    }
   ],
   "source": [
    "pandas.crosstab(DBSCAN(eps = 0.25, min_samples = 5).fit(iris_num).labels_, iris.Species)"
   ]
  },
  {
   "cell_type": "markdown",
   "id": "98824a0a",
   "metadata": {},
   "source": [
    "### HDBSCAN\n",
    "\n",
    "C'est une version hiérarchique de DBSCAN, qui l'exécute avec différentes valeurs d'`eps` et intègre le résultat pour trouver un regroupement qui donne la meilleure stabilité. Cela permet de trouver des clusters de différentes densités (contrairement à DBSCAN) et d'être plus robuste à la sélection des paramètres."
   ]
  },
  {
   "cell_type": "code",
   "execution_count": 13,
   "id": "2d39e691",
   "metadata": {},
   "outputs": [
    {
     "data": {
      "text/html": [
       "<style>#sk-container-id-2 {color: black;}#sk-container-id-2 pre{padding: 0;}#sk-container-id-2 div.sk-toggleable {background-color: white;}#sk-container-id-2 label.sk-toggleable__label {cursor: pointer;display: block;width: 100%;margin-bottom: 0;padding: 0.3em;box-sizing: border-box;text-align: center;}#sk-container-id-2 label.sk-toggleable__label-arrow:before {content: \"▸\";float: left;margin-right: 0.25em;color: #696969;}#sk-container-id-2 label.sk-toggleable__label-arrow:hover:before {color: black;}#sk-container-id-2 div.sk-estimator:hover label.sk-toggleable__label-arrow:before {color: black;}#sk-container-id-2 div.sk-toggleable__content {max-height: 0;max-width: 0;overflow: hidden;text-align: left;background-color: #f0f8ff;}#sk-container-id-2 div.sk-toggleable__content pre {margin: 0.2em;color: black;border-radius: 0.25em;background-color: #f0f8ff;}#sk-container-id-2 input.sk-toggleable__control:checked~div.sk-toggleable__content {max-height: 200px;max-width: 100%;overflow: auto;}#sk-container-id-2 input.sk-toggleable__control:checked~label.sk-toggleable__label-arrow:before {content: \"▾\";}#sk-container-id-2 div.sk-estimator input.sk-toggleable__control:checked~label.sk-toggleable__label {background-color: #d4ebff;}#sk-container-id-2 div.sk-label input.sk-toggleable__control:checked~label.sk-toggleable__label {background-color: #d4ebff;}#sk-container-id-2 input.sk-hidden--visually {border: 0;clip: rect(1px 1px 1px 1px);clip: rect(1px, 1px, 1px, 1px);height: 1px;margin: -1px;overflow: hidden;padding: 0;position: absolute;width: 1px;}#sk-container-id-2 div.sk-estimator {font-family: monospace;background-color: #f0f8ff;border: 1px dotted black;border-radius: 0.25em;box-sizing: border-box;margin-bottom: 0.5em;}#sk-container-id-2 div.sk-estimator:hover {background-color: #d4ebff;}#sk-container-id-2 div.sk-parallel-item::after {content: \"\";width: 100%;border-bottom: 1px solid gray;flex-grow: 1;}#sk-container-id-2 div.sk-label:hover label.sk-toggleable__label {background-color: #d4ebff;}#sk-container-id-2 div.sk-serial::before {content: \"\";position: absolute;border-left: 1px solid gray;box-sizing: border-box;top: 0;bottom: 0;left: 50%;z-index: 0;}#sk-container-id-2 div.sk-serial {display: flex;flex-direction: column;align-items: center;background-color: white;padding-right: 0.2em;padding-left: 0.2em;position: relative;}#sk-container-id-2 div.sk-item {position: relative;z-index: 1;}#sk-container-id-2 div.sk-parallel {display: flex;align-items: stretch;justify-content: center;background-color: white;position: relative;}#sk-container-id-2 div.sk-item::before, #sk-container-id-2 div.sk-parallel-item::before {content: \"\";position: absolute;border-left: 1px solid gray;box-sizing: border-box;top: 0;bottom: 0;left: 50%;z-index: -1;}#sk-container-id-2 div.sk-parallel-item {display: flex;flex-direction: column;z-index: 1;position: relative;background-color: white;}#sk-container-id-2 div.sk-parallel-item:first-child::after {align-self: flex-end;width: 50%;}#sk-container-id-2 div.sk-parallel-item:last-child::after {align-self: flex-start;width: 50%;}#sk-container-id-2 div.sk-parallel-item:only-child::after {width: 0;}#sk-container-id-2 div.sk-dashed-wrapped {border: 1px dashed gray;margin: 0 0.4em 0.5em 0.4em;box-sizing: border-box;padding-bottom: 0.4em;background-color: white;}#sk-container-id-2 div.sk-label label {font-family: monospace;font-weight: bold;display: inline-block;line-height: 1.2em;}#sk-container-id-2 div.sk-label-container {text-align: center;}#sk-container-id-2 div.sk-container {/* jupyter's `normalize.less` sets `[hidden] { display: none; }` but bootstrap.min.css set `[hidden] { display: none !important; }` so we also need the `!important` here to be able to override the default hidden behavior on the sphinx rendered scikit-learn.org. See: https://github.com/scikit-learn/scikit-learn/issues/21755 */display: inline-block !important;position: relative;}#sk-container-id-2 div.sk-text-repr-fallback {display: none;}</style><div id=\"sk-container-id-2\" class=\"sk-top-container\"><div class=\"sk-text-repr-fallback\"><pre>HDBSCAN(min_cluster_size=10)</pre><b>In a Jupyter environment, please rerun this cell to show the HTML representation or trust the notebook. <br />On GitHub, the HTML representation is unable to render, please try loading this page with nbviewer.org.</b></div><div class=\"sk-container\" hidden><div class=\"sk-item\"><div class=\"sk-estimator sk-toggleable\"><input class=\"sk-toggleable__control sk-hidden--visually\" id=\"sk-estimator-id-2\" type=\"checkbox\" checked><label for=\"sk-estimator-id-2\" class=\"sk-toggleable__label sk-toggleable__label-arrow\">HDBSCAN</label><div class=\"sk-toggleable__content\"><pre>HDBSCAN(min_cluster_size=10)</pre></div></div></div></div></div>"
      ],
      "text/plain": [
       "HDBSCAN(min_cluster_size=10)"
      ]
     },
     "execution_count": 13,
     "metadata": {},
     "output_type": "execute_result"
    }
   ],
   "source": [
    "from sklearn.cluster import HDBSCAN\n",
    "\n",
    "hdb = HDBSCAN(min_cluster_size = 10).fit(iris_num)\n",
    "hdb"
   ]
  },
  {
   "cell_type": "markdown",
   "id": "f19cbc42",
   "metadata": {},
   "source": [
    "Ici aussi, la méthode retrouve très bien les deux grandes classes mais n'arrive pas à séparer les *versicolor* des *virginica*."
   ]
  },
  {
   "cell_type": "code",
   "execution_count": 14,
   "id": "fdebe4cb",
   "metadata": {},
   "outputs": [
    {
     "data": {
      "text/plain": [
       "array([0, 0, 0, 0, 0, 0, 0, 0, 0, 0, 0, 0, 0, 0, 0, 0, 0, 0, 0, 0, 0, 0,\n",
       "       0, 0, 0, 0, 0, 0, 0, 0, 0, 0, 0, 0, 0, 0, 0, 0, 0, 0, 0, 0, 0, 0,\n",
       "       0, 0, 0, 0, 0, 0, 1, 1, 1, 1, 1, 1, 1, 1, 1, 1, 1, 1, 1, 1, 1, 1,\n",
       "       1, 1, 1, 1, 1, 1, 1, 1, 1, 1, 1, 1, 1, 1, 1, 1, 1, 1, 1, 1, 1, 1,\n",
       "       1, 1, 1, 1, 1, 1, 1, 1, 1, 1, 1, 1, 1, 1, 1, 1, 1, 1, 1, 1, 1, 1,\n",
       "       1, 1, 1, 1, 1, 1, 1, 1, 1, 1, 1, 1, 1, 1, 1, 1, 1, 1, 1, 1, 1, 1,\n",
       "       1, 1, 1, 1, 1, 1, 1, 1, 1, 1, 1, 1, 1, 1, 1, 1, 1, 1])"
      ]
     },
     "execution_count": 14,
     "metadata": {},
     "output_type": "execute_result"
    }
   ],
   "source": [
    "hdb.labels_"
   ]
  },
  {
   "cell_type": "code",
   "execution_count": 15,
   "id": "72cfe987",
   "metadata": {},
   "outputs": [
    {
     "data": {
      "text/html": [
       "<div>\n",
       "<style scoped>\n",
       "    .dataframe tbody tr th:only-of-type {\n",
       "        vertical-align: middle;\n",
       "    }\n",
       "\n",
       "    .dataframe tbody tr th {\n",
       "        vertical-align: top;\n",
       "    }\n",
       "\n",
       "    .dataframe thead th {\n",
       "        text-align: right;\n",
       "    }\n",
       "</style>\n",
       "<table border=\"1\" class=\"dataframe\">\n",
       "  <thead>\n",
       "    <tr style=\"text-align: right;\">\n",
       "      <th>Species</th>\n",
       "      <th>setosa</th>\n",
       "      <th>versicolor</th>\n",
       "      <th>virginica</th>\n",
       "    </tr>\n",
       "    <tr>\n",
       "      <th>row_0</th>\n",
       "      <th></th>\n",
       "      <th></th>\n",
       "      <th></th>\n",
       "    </tr>\n",
       "  </thead>\n",
       "  <tbody>\n",
       "    <tr>\n",
       "      <th>0</th>\n",
       "      <td>50</td>\n",
       "      <td>0</td>\n",
       "      <td>0</td>\n",
       "    </tr>\n",
       "    <tr>\n",
       "      <th>1</th>\n",
       "      <td>0</td>\n",
       "      <td>50</td>\n",
       "      <td>50</td>\n",
       "    </tr>\n",
       "  </tbody>\n",
       "</table>\n",
       "</div>"
      ],
      "text/plain": [
       "Species  setosa  versicolor  virginica\n",
       "row_0                                 \n",
       "0            50           0          0\n",
       "1             0          50         50"
      ]
     },
     "execution_count": 15,
     "metadata": {},
     "output_type": "execute_result"
    }
   ],
   "source": [
    "pandas.crosstab(hdb.labels_, iris.Species)"
   ]
  },
  {
   "cell_type": "markdown",
   "id": "eda0e756",
   "metadata": {},
   "source": [
    "Un intérêt de l'implémentation de cette méthode est de récupérer une probabilité d'appartenance à sa classe pour chaque individu, ce qui permet d'avoir une idée des éventuels individus qui sont à la frintière entre deux classes."
   ]
  },
  {
   "cell_type": "code",
   "execution_count": 16,
   "id": "1f189d9a",
   "metadata": {},
   "outputs": [
    {
     "data": {
      "text/plain": [
       "array([1.        , 0.9486833 , 1.        , 1.        , 1.        ,\n",
       "       0.65465367, 0.70710678, 1.        , 0.63960215, 0.9486833 ,\n",
       "       0.83205029, 0.9486833 , 1.        , 0.48666426, 0.43759497,\n",
       "       0.35112344, 0.63960215, 1.        , 0.53881591, 0.83205029,\n",
       "       0.6882472 , 0.9486833 , 0.46852129, 0.6882472 , 0.57735027,\n",
       "       0.72760688, 0.9486833 , 1.        , 1.        , 0.9486833 ,\n",
       "       1.        , 0.77459667, 0.53881591, 0.51449576, 1.        ,\n",
       "       0.83205029, 0.65465367, 0.8660254 , 0.63960215, 1.        ,\n",
       "       1.        , 0.32929278, 0.63960215, 0.65465367, 0.54772256,\n",
       "       1.        , 0.83205029, 1.        , 0.90453403, 1.        ,\n",
       "       0.69883624, 1.        , 0.70710678, 0.8819171 , 1.        ,\n",
       "       1.        , 0.83666003, 0.47776654, 0.89871703, 0.74339194,\n",
       "       0.49705012, 1.        , 0.69883624, 0.97700842, 0.78590525,\n",
       "       0.83666003, 0.91651514, 0.97700842, 0.62360956, 1.        ,\n",
       "       0.83666003, 0.91651514, 0.89871703, 0.8660254 , 0.93541435,\n",
       "       0.85096294, 0.77459667, 0.83666003, 0.97700842, 0.66843736,\n",
       "       0.8660254 , 0.76376262, 1.        , 0.97700842, 0.78590525,\n",
       "       0.78590525, 1.        , 0.65465367, 0.97700842, 1.        ,\n",
       "       0.89871703, 1.        , 1.        , 0.50300303, 1.        ,\n",
       "       1.        , 1.        , 1.        , 0.4450991 , 1.        ,\n",
       "       0.64168895, 0.8819171 , 0.83666003, 0.77459667, 0.91651514,\n",
       "       0.51887452, 0.48575205, 0.52223297, 0.62360956, 0.52565748,\n",
       "       0.8660254 , 0.95553309, 0.95553309, 0.70710678, 0.59160798,\n",
       "       0.85096294, 0.91651514, 0.36927447, 0.33968311, 0.67566392,\n",
       "       0.79772404, 0.7533708 , 0.43109246, 0.95553309, 0.89871703,\n",
       "       0.61791438, 0.97700842, 0.97700842, 0.8819171 , 0.5819877 ,\n",
       "       0.54006172, 0.36927447, 0.89871703, 0.89871703, 0.60697698,\n",
       "       0.50300303, 0.71567809, 0.89871703, 0.97700842, 0.8819171 ,\n",
       "       0.95553309, 0.70710678, 0.8819171 , 0.82305489, 0.83666003,\n",
       "       0.79772404, 0.82305489, 0.95553309, 0.70710678, 0.85096294])"
      ]
     },
     "execution_count": 16,
     "metadata": {},
     "output_type": "execute_result"
    }
   ],
   "source": [
    "hdb.probabilities_"
   ]
  },
  {
   "cell_type": "markdown",
   "id": "cb8bf613",
   "metadata": {},
   "source": [
    "## Travail à faire\n",
    "\n",
    "Reprendre les données `WGI`, `Wine`, `hadCRUT5` et `Spotify` et appliquer les méthodes pour voir les différences de résultats avec les méthodes déjà vues.\n",
    "\n",
    "- Tester différents nombres de voisins pour les méthodes de représentationes\n",
    "- Tester différentes valeurs des paramètres pour la classification\n",
    "- Tester l'usage de la classification sur les résultats des différentes méthodes de représentations"
   ]
  },
  {
   "cell_type": "code",
   "execution_count": null,
   "id": "85eef419",
   "metadata": {},
   "outputs": [],
   "source": []
  }
 ],
 "metadata": {
  "kernelspec": {
   "display_name": "Python 3 (ipykernel)",
   "language": "python",
   "name": "python3"
  },
  "language_info": {
   "codemirror_mode": {
    "name": "ipython",
    "version": 3
   },
   "file_extension": ".py",
   "mimetype": "text/x-python",
   "name": "python",
   "nbconvert_exporter": "python",
   "pygments_lexer": "ipython3",
   "version": "3.9.9"
  }
 },
 "nbformat": 4,
 "nbformat_minor": 5
}
