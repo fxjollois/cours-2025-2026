{
 "cells": [
  {
   "cell_type": "markdown",
   "metadata": {},
   "source": [
    "# Séance 1 - *correction*\n",
    "\n",
    "\n",
    "### 1- Télécharger le fichier et importer les lignes dans python comme ci-dessus"
   ]
  },
  {
   "cell_type": "code",
   "execution_count": 1,
   "metadata": {},
   "outputs": [],
   "source": [
    "fichier = open(\"Iris.txt\")\n",
    "lignesBrutes = fichier.readlines()\n",
    "fichier.close()"
   ]
  },
  {
   "cell_type": "markdown",
   "metadata": {},
   "source": [
    "### 2- Visualiser les 5 premières lignes"
   ]
  },
  {
   "cell_type": "code",
   "execution_count": 2,
   "metadata": {
    "scrolled": true
   },
   "outputs": [
    {
     "data": {
      "text/plain": [
       "['\"Sepal Length\"\\t\"Sepal Width\"\\t\"Petal Length\"\\t\"Petal Width\"\\t\"Species\"\\n',\n",
       " '5.1\\t3.5\\t1.4\\t0.2\\tsetosa\\n',\n",
       " '4.9\\t3\\t1.4\\t0.2\\tsetosa\\n',\n",
       " '4.7\\t3.2\\t1.3\\t0.2\\tsetosa\\n',\n",
       " '4.6\\t3.1\\t1.5\\t0.2\\tsetosa\\n']"
      ]
     },
     "execution_count": 2,
     "metadata": {},
     "output_type": "execute_result"
    }
   ],
   "source": [
    "lignesBrutes[:5]"
   ]
  },
  {
   "cell_type": "markdown",
   "metadata": {},
   "source": [
    "### 3- A partir de la liste de chaînes obtenue, créer une liste de 151 listes\n",
    "\n",
    "- Chaque sous-liste contiendra les 5 informations présentes sur chaque ligne (séparées par des \";\")\n",
    "- Supprimer les quotes (\"'\") et le caractère de fin de ligne (\"\\n\")"
   ]
  },
  {
   "cell_type": "code",
   "execution_count": 3,
   "metadata": {},
   "outputs": [
    {
     "data": {
      "text/plain": [
       "[['Sepal Length', 'Sepal Width', 'Petal Length', 'Petal Width', 'Species'],\n",
       " ['5.1', '3.5', '1.4', '0.2', 'setosa'],\n",
       " ['4.9', '3', '1.4', '0.2', 'setosa'],\n",
       " ['4.7', '3.2', '1.3', '0.2', 'setosa'],\n",
       " ['4.6', '3.1', '1.5', '0.2', 'setosa']]"
      ]
     },
     "execution_count": 3,
     "metadata": {},
     "output_type": "execute_result"
    }
   ],
   "source": [
    "# Etape par étape\n",
    "lignes = []\n",
    "for l in lignesBrutes:\n",
    "    la = l.replace('\"', \"\")\n",
    "    lb = la.replace(\"\\n\", \"\")\n",
    "    lc = lb.split(\"\\t\")\n",
    "    lignes.append(lc)\n",
    "lignes[:5]"
   ]
  },
  {
   "cell_type": "code",
   "execution_count": 4,
   "metadata": {},
   "outputs": [
    {
     "data": {
      "text/plain": [
       "[['Sepal Length', 'Sepal Width', 'Petal Length', 'Petal Width', 'Species'],\n",
       " ['5.1', '3.5', '1.4', '0.2', 'setosa'],\n",
       " ['4.9', '3', '1.4', '0.2', 'setosa'],\n",
       " ['4.7', '3.2', '1.3', '0.2', 'setosa'],\n",
       " ['4.6', '3.1', '1.5', '0.2', 'setosa']]"
      ]
     },
     "execution_count": 4,
     "metadata": {},
     "output_type": "execute_result"
    }
   ],
   "source": [
    "# En une seule ligne\n",
    "lignes = [l.replace(\"\\n\", \"\").replace('\"', \"\").split(\"\\t\") for l in lignesBrutes]\n",
    "lignes[:5]"
   ]
  },
  {
   "cell_type": "markdown",
   "metadata": {},
   "source": [
    "### 4- Créer une fonction permettant de transformer une chaîne en réel\n",
    "\n",
    "- si cette chaîne n'est pas transformable, renvoyer la telle quelle"
   ]
  },
  {
   "cell_type": "code",
   "execution_count": 5,
   "metadata": {},
   "outputs": [
    {
     "name": "stdout",
     "output_type": "stream",
     "text": [
      "5.2\n",
      "setosa\n"
     ]
    }
   ],
   "source": [
    "def str2float(x):\n",
    "    try:\n",
    "        r = float(x)\n",
    "    except: \n",
    "        r = x\n",
    "    finally:\n",
    "        return r\n",
    "\n",
    "print(str2float(\"5.2\"))\n",
    "print(str2float(\"setosa\"))"
   ]
  },
  {
   "cell_type": "markdown",
   "metadata": {},
   "source": [
    "### 5- Créer une liste de 150 dictionnaires\n",
    "\n",
    "- Chaque dictionnaire sera un iris, avec des champs nommés\n",
    "- Noms des variables sont dans le premier élément de la liste précédemment créée\n",
    "- Idéalement à faire en une fois avec des list comprehension"
   ]
  },
  {
   "cell_type": "code",
   "execution_count": 24,
   "metadata": {},
   "outputs": [
    {
     "data": {
      "text/plain": [
       "[{'Sepal Length': 5.1,\n",
       "  'Sepal Width': 3.5,\n",
       "  'Petal Length': 1.4,\n",
       "  'Petal Width': 0.2,\n",
       "  'Species': 'setosa'},\n",
       " {'Sepal Length': 4.9,\n",
       "  'Sepal Width': 3.0,\n",
       "  'Petal Length': 1.4,\n",
       "  'Petal Width': 0.2,\n",
       "  'Species': 'setosa'},\n",
       " {'Sepal Length': 4.7,\n",
       "  'Sepal Width': 3.2,\n",
       "  'Petal Length': 1.3,\n",
       "  'Petal Width': 0.2,\n",
       "  'Species': 'setosa'},\n",
       " {'Sepal Length': 4.6,\n",
       "  'Sepal Width': 3.1,\n",
       "  'Petal Length': 1.5,\n",
       "  'Petal Width': 0.2,\n",
       "  'Species': 'setosa'},\n",
       " {'Sepal Length': 5.0,\n",
       "  'Sepal Width': 3.6,\n",
       "  'Petal Length': 1.4,\n",
       "  'Petal Width': 0.2,\n",
       "  'Species': 'setosa'}]"
      ]
     },
     "execution_count": 24,
     "metadata": {},
     "output_type": "execute_result"
    }
   ],
   "source": [
    "noms = lignes[0]\n",
    "iris = [dict(zip(noms, map(str2float, l))) for l in lignes[1:]]\n",
    "iris[:5]"
   ]
  },
  {
   "cell_type": "markdown",
   "metadata": {},
   "source": [
    "### 6- Calculer pour chaque iris le rapport entre la surface d'un pétale et la surface d'un sépale\n",
    "\n",
    "La surface de chaque dépend uniquement du produit de la largeur et de la longueur. On fera donc le rapport entre les deux produits."
   ]
  },
  {
   "cell_type": "code",
   "execution_count": 7,
   "metadata": {},
   "outputs": [
    {
     "data": {
      "text/plain": [
       "[92.89285714285714,\n",
       " 85.75000000000003,\n",
       " 84.96153846153847,\n",
       " 70.53333333333332,\n",
       " 89.28571428571429]"
      ]
     },
     "execution_count": 7,
     "metadata": {},
     "output_type": "execute_result"
    }
   ],
   "source": [
    "ratio = list(map(lambda x: (x[\"Sepal Length\"] * x[\"Sepal Length\"]) / (x[\"Petal Length\"] * x[\"Petal Width\"]), iris))\n",
    "ratio[:5]"
   ]
  },
  {
   "cell_type": "markdown",
   "metadata": {},
   "source": [
    "### 7- Créer une sous-liste ne contenant que les iris setosa"
   ]
  },
  {
   "cell_type": "code",
   "execution_count": 8,
   "metadata": {},
   "outputs": [
    {
     "data": {
      "text/plain": [
       "[{'Sepal Length': 5.1,\n",
       "  'Sepal Width': 3.5,\n",
       "  'Petal Length': 1.4,\n",
       "  'Petal Width': 0.2,\n",
       "  'Species': 'setosa'},\n",
       " {'Sepal Length': 4.9,\n",
       "  'Sepal Width': 3.0,\n",
       "  'Petal Length': 1.4,\n",
       "  'Petal Width': 0.2,\n",
       "  'Species': 'setosa'},\n",
       " {'Sepal Length': 4.7,\n",
       "  'Sepal Width': 3.2,\n",
       "  'Petal Length': 1.3,\n",
       "  'Petal Width': 0.2,\n",
       "  'Species': 'setosa'},\n",
       " {'Sepal Length': 4.6,\n",
       "  'Sepal Width': 3.1,\n",
       "  'Petal Length': 1.5,\n",
       "  'Petal Width': 0.2,\n",
       "  'Species': 'setosa'},\n",
       " {'Sepal Length': 5.0,\n",
       "  'Sepal Width': 3.6,\n",
       "  'Petal Length': 1.4,\n",
       "  'Petal Width': 0.2,\n",
       "  'Species': 'setosa'}]"
      ]
     },
     "execution_count": 8,
     "metadata": {},
     "output_type": "execute_result"
    }
   ],
   "source": [
    "setosa = list(filter(lambda i: i[\"Species\"] == \"setosa\", iris))\n",
    "setosa[:5]"
   ]
  },
  {
   "cell_type": "markdown",
   "metadata": {},
   "source": [
    "### 8- Calculer la moyenne de chaque variable"
   ]
  },
  {
   "cell_type": "code",
   "execution_count": 9,
   "metadata": {},
   "outputs": [
    {
     "data": {
      "text/plain": [
       "{'Sepal Length': 876.5000000000002,\n",
       " 'Sepal Width': 458.60000000000014,\n",
       " 'Petal Length': 563.7000000000004,\n",
       " 'Petal Width': 179.90000000000012}"
      ]
     },
     "execution_count": 9,
     "metadata": {},
     "output_type": "execute_result"
    }
   ],
   "source": [
    "import functools\n",
    "\n",
    "somme = functools.reduce(lambda a, b: {k:(a.get(k)+b.get(k)) for k in vars[:-1]}, iris)\n",
    "somme"
   ]
  },
  {
   "cell_type": "code",
   "execution_count": 10,
   "metadata": {},
   "outputs": [
    {
     "data": {
      "text/plain": [
       "{'Sepal Length': 5.84,\n",
       " 'Sepal Width': 3.06,\n",
       " 'Petal Length': 3.76,\n",
       " 'Petal Width': 1.2}"
      ]
     },
     "execution_count": 10,
     "metadata": {},
     "output_type": "execute_result"
    }
   ],
   "source": [
    "moyenne = dict(zip(somme.keys(), [round(x / 150, 2) for x in somme.values()]))\n",
    "moyenne"
   ]
  },
  {
   "cell_type": "markdown",
   "metadata": {},
   "source": [
    "#### En une ligne, pour le fun ;o)"
   ]
  },
  {
   "cell_type": "code",
   "execution_count": 11,
   "metadata": {},
   "outputs": [
    {
     "data": {
      "text/plain": [
       "{'Sepal Length': 5.84,\n",
       " 'Sepal Width': 3.06,\n",
       " 'Petal Length': 3.76,\n",
       " 'Petal Width': 1.2}"
      ]
     },
     "execution_count": 11,
     "metadata": {},
     "output_type": "execute_result"
    }
   ],
   "source": [
    "dict(zip(vars[:-1], [round(x / 150, 2) for x in functools.reduce(lambda a, b: {k:(a.get(k)+b.get(k)) for k in vars[:-1]}, iris).values()]))"
   ]
  },
  {
   "cell_type": "markdown",
   "metadata": {},
   "source": [
    "### 9- Calculer la moyenne de chaque variable pour chaque espèce\n",
    "\n",
    "On recupère déjà la liste des espèces présentes dans la clé `Species`."
   ]
  },
  {
   "cell_type": "code",
   "execution_count": 12,
   "metadata": {},
   "outputs": [
    {
     "data": {
      "text/plain": [
       "['setosa', 'versicolor', 'virginica']"
      ]
     },
     "execution_count": 12,
     "metadata": {},
     "output_type": "execute_result"
    }
   ],
   "source": [
    "especes = list(set([i['Species'] for i in iris]))\n",
    "especes.sort()\n",
    "especes"
   ]
  },
  {
   "cell_type": "markdown",
   "metadata": {},
   "source": [
    "Ensuite, on créé autant de listes que d'espèces présentes, regroupées dans une même liste."
   ]
  },
  {
   "cell_type": "code",
   "execution_count": 13,
   "metadata": {},
   "outputs": [
    {
     "data": {
      "text/plain": [
       "3"
      ]
     },
     "execution_count": 13,
     "metadata": {},
     "output_type": "execute_result"
    }
   ],
   "source": [
    "groupes = [list(filter(lambda i: i['Species'] == s, iris)) for s in especes]\n",
    "len(groupes)"
   ]
  },
  {
   "cell_type": "markdown",
   "metadata": {},
   "source": [
    "Puis, on applique sur chaque sous-liste correspondant à une espèce la même procédure que pour le calcul de la moyenne globale."
   ]
  },
  {
   "cell_type": "code",
   "execution_count": 14,
   "metadata": {},
   "outputs": [
    {
     "data": {
      "text/plain": [
       "[{'Sepal Length': 250.29999999999998,\n",
       "  'Sepal Width': 171.40000000000003,\n",
       "  'Petal Length': 73.10000000000001,\n",
       "  'Petal Width': 12.299999999999995},\n",
       " {'Sepal Length': 296.8,\n",
       "  'Sepal Width': 138.50000000000003,\n",
       "  'Petal Length': 212.99999999999997,\n",
       "  'Petal Width': 66.3},\n",
       " {'Sepal Length': 329.3999999999999,\n",
       "  'Sepal Width': 148.7,\n",
       "  'Petal Length': 277.59999999999997,\n",
       "  'Petal Width': 101.29999999999998}]"
      ]
     },
     "execution_count": 14,
     "metadata": {},
     "output_type": "execute_result"
    }
   ],
   "source": [
    "sommes = [functools.reduce(lambda a, b: {k:(a.get(k)+b.get(k)) for k in vars[:-1]}, g) for g in groupes]\n",
    "sommes"
   ]
  },
  {
   "cell_type": "markdown",
   "metadata": {},
   "source": [
    "On peut simplement calculer les tailles de chaque groupe de cette manière."
   ]
  },
  {
   "cell_type": "code",
   "execution_count": 15,
   "metadata": {},
   "outputs": [
    {
     "data": {
      "text/plain": [
       "[50, 50, 50]"
      ]
     },
     "execution_count": 15,
     "metadata": {},
     "output_type": "execute_result"
    }
   ],
   "source": [
    "tailles = [len(g) for g in groupes]\n",
    "tailles"
   ]
  },
  {
   "cell_type": "markdown",
   "metadata": {},
   "source": [
    "Enfin, il est facile d'appliquer aussi la même méthode pour avoir les moyennes par espèces."
   ]
  },
  {
   "cell_type": "code",
   "execution_count": 16,
   "metadata": {},
   "outputs": [
    {
     "data": {
      "text/plain": [
       "[{'Sepal Length': 5.01,\n",
       "  'Sepal Width': 3.43,\n",
       "  'Petal Length': 1.46,\n",
       "  'Petal Width': 0.25},\n",
       " {'Sepal Length': 5.94,\n",
       "  'Sepal Width': 2.77,\n",
       "  'Petal Length': 4.26,\n",
       "  'Petal Width': 1.33},\n",
       " {'Sepal Length': 6.59,\n",
       "  'Sepal Width': 2.97,\n",
       "  'Petal Length': 5.55,\n",
       "  'Petal Width': 2.03}]"
      ]
     },
     "execution_count": 16,
     "metadata": {},
     "output_type": "execute_result"
    }
   ],
   "source": [
    "moyennes = [{cle:round(sommes[i][cle] / tailles[i], 2) for cle in sommes[i]} for i in range(len(especes))]\n",
    "moyennes"
   ]
  },
  {
   "cell_type": "markdown",
   "metadata": {},
   "source": [
    "Au final, pour que ce soit plus clair, on ajoute l'espèce à chaque résultat."
   ]
  },
  {
   "cell_type": "code",
   "execution_count": 17,
   "metadata": {},
   "outputs": [
    {
     "data": {
      "text/plain": [
       "{'setosa': {'Sepal Length': 5.01,\n",
       "  'Sepal Width': 3.43,\n",
       "  'Petal Length': 1.46,\n",
       "  'Petal Width': 0.25},\n",
       " 'versicolor': {'Sepal Length': 5.94,\n",
       "  'Sepal Width': 2.77,\n",
       "  'Petal Length': 4.26,\n",
       "  'Petal Width': 1.33},\n",
       " 'virginica': {'Sepal Length': 6.59,\n",
       "  'Sepal Width': 2.97,\n",
       "  'Petal Length': 5.55,\n",
       "  'Petal Width': 2.03}}"
      ]
     },
     "execution_count": 17,
     "metadata": {},
     "output_type": "execute_result"
    }
   ],
   "source": [
    "dict(zip(especes, moyennes))"
   ]
  },
  {
   "cell_type": "markdown",
   "metadata": {},
   "source": [
    "#### En une ligne, pour le fun ;o)"
   ]
  },
  {
   "cell_type": "code",
   "execution_count": 25,
   "metadata": {},
   "outputs": [
    {
     "data": {
      "text/plain": [
       "{'setosa': {'Sepal Length': 5.005999999999999,\n",
       "  'Sepal Width': 3.428000000000001,\n",
       "  'Petal Length': 1.4620000000000002,\n",
       "  'Petal Width': 0.2459999999999999},\n",
       " 'virginica': {'Sepal Length': 6.587999999999998,\n",
       "  'Sepal Width': 2.9739999999999998,\n",
       "  'Petal Length': 5.552,\n",
       "  'Petal Width': 2.026},\n",
       " 'versicolor': {'Sepal Length': 5.936,\n",
       "  'Sepal Width': 2.7700000000000005,\n",
       "  'Petal Length': 4.26,\n",
       "  'Petal Width': 1.3259999999999998}}"
      ]
     },
     "execution_count": 25,
     "metadata": {},
     "output_type": "execute_result"
    }
   ],
   "source": [
    "dict(zip(set([d[\"Species\"] for d in iris]), [dict(zip(noms[:-1], [sum([e[nom] for e in filter(lambda x: x[\"Species\"] == s, iris)]) / len(list(filter(lambda x: x[\"Species\"] == s, iris))) for nom in noms[:-1]])) for s in list(set([d[\"Species\"] for d in iris]))]))"
   ]
  }
 ],
 "metadata": {
  "kernelspec": {
   "display_name": "Python 3 (ipykernel)",
   "language": "python",
   "name": "python3"
  },
  "language_info": {
   "codemirror_mode": {
    "name": "ipython",
    "version": 3
   },
   "file_extension": ".py",
   "mimetype": "text/x-python",
   "name": "python",
   "nbconvert_exporter": "python",
   "pygments_lexer": "ipython3",
   "version": "3.9.9"
  }
 },
 "nbformat": 4,
 "nbformat_minor": 4
}
