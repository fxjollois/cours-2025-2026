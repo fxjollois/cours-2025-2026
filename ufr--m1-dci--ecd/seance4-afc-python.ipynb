{
 "cells": [
  {
   "cell_type": "markdown",
   "metadata": {
    "slideshow": {
     "slide_type": "slide"
    }
   },
   "source": [
    "# Extraction de connaissances à partir de données structurées et non structurées\n",
    "\n",
    "## Séance 4 : Analyse Factorielle des Correspondances Simples (AFC)\n",
    "\n",
    "### Utilisation de `python`"
   ]
  },
  {
   "cell_type": "markdown",
   "metadata": {
    "slideshow": {
     "slide_type": "slide"
    }
   },
   "source": [
    "## Librairies utilisées\n",
    "\n",
    "Données accidents aux Etats-Unis sur la période 1973-1978 [à télécharger](USAccDeaths.csv)"
   ]
  },
  {
   "cell_type": "code",
   "execution_count": 1,
   "metadata": {},
   "outputs": [],
   "source": [
    "import pandas\n",
    "import numpy\n",
    "import matplotlib.pyplot as plt\n",
    "import seaborn\n",
    "seaborn.set_style(\"white\")\n",
    "\n",
    "from prince import CA"
   ]
  },
  {
   "cell_type": "markdown",
   "metadata": {
    "slideshow": {
     "slide_type": "slide"
    }
   },
   "source": [
    "## Données utilisées"
   ]
  },
  {
   "cell_type": "code",
   "execution_count": 2,
   "metadata": {
    "scrolled": true
   },
   "outputs": [
    {
     "data": {
      "text/html": [
       "<div>\n",
       "<style scoped>\n",
       "    .dataframe tbody tr th:only-of-type {\n",
       "        vertical-align: middle;\n",
       "    }\n",
       "\n",
       "    .dataframe tbody tr th {\n",
       "        vertical-align: top;\n",
       "    }\n",
       "\n",
       "    .dataframe thead th {\n",
       "        text-align: right;\n",
       "    }\n",
       "</style>\n",
       "<table border=\"1\" class=\"dataframe\">\n",
       "  <thead>\n",
       "    <tr style=\"text-align: right;\">\n",
       "      <th>Month</th>\n",
       "      <th>January</th>\n",
       "      <th>February</th>\n",
       "      <th>March</th>\n",
       "      <th>April</th>\n",
       "      <th>May</th>\n",
       "      <th>June</th>\n",
       "      <th>July</th>\n",
       "      <th>August</th>\n",
       "      <th>September</th>\n",
       "      <th>October</th>\n",
       "      <th>November</th>\n",
       "      <th>December</th>\n",
       "    </tr>\n",
       "    <tr>\n",
       "      <th>Year</th>\n",
       "      <th></th>\n",
       "      <th></th>\n",
       "      <th></th>\n",
       "      <th></th>\n",
       "      <th></th>\n",
       "      <th></th>\n",
       "      <th></th>\n",
       "      <th></th>\n",
       "      <th></th>\n",
       "      <th></th>\n",
       "      <th></th>\n",
       "      <th></th>\n",
       "    </tr>\n",
       "  </thead>\n",
       "  <tbody>\n",
       "    <tr>\n",
       "      <th>1973</th>\n",
       "      <td>9007</td>\n",
       "      <td>8106</td>\n",
       "      <td>8928</td>\n",
       "      <td>9137</td>\n",
       "      <td>10017</td>\n",
       "      <td>10826</td>\n",
       "      <td>11317</td>\n",
       "      <td>10744</td>\n",
       "      <td>9713</td>\n",
       "      <td>9938</td>\n",
       "      <td>9161</td>\n",
       "      <td>8927</td>\n",
       "    </tr>\n",
       "    <tr>\n",
       "      <th>1974</th>\n",
       "      <td>7750</td>\n",
       "      <td>6981</td>\n",
       "      <td>8038</td>\n",
       "      <td>8422</td>\n",
       "      <td>8714</td>\n",
       "      <td>9512</td>\n",
       "      <td>10120</td>\n",
       "      <td>9823</td>\n",
       "      <td>8743</td>\n",
       "      <td>9129</td>\n",
       "      <td>8710</td>\n",
       "      <td>8680</td>\n",
       "    </tr>\n",
       "    <tr>\n",
       "      <th>1975</th>\n",
       "      <td>8162</td>\n",
       "      <td>7306</td>\n",
       "      <td>8124</td>\n",
       "      <td>7870</td>\n",
       "      <td>9387</td>\n",
       "      <td>9556</td>\n",
       "      <td>10093</td>\n",
       "      <td>9620</td>\n",
       "      <td>8285</td>\n",
       "      <td>8466</td>\n",
       "      <td>8160</td>\n",
       "      <td>8034</td>\n",
       "    </tr>\n",
       "    <tr>\n",
       "      <th>1976</th>\n",
       "      <td>7717</td>\n",
       "      <td>7461</td>\n",
       "      <td>7767</td>\n",
       "      <td>7925</td>\n",
       "      <td>8623</td>\n",
       "      <td>8945</td>\n",
       "      <td>10078</td>\n",
       "      <td>9179</td>\n",
       "      <td>8037</td>\n",
       "      <td>8488</td>\n",
       "      <td>7874</td>\n",
       "      <td>8647</td>\n",
       "    </tr>\n",
       "    <tr>\n",
       "      <th>1977</th>\n",
       "      <td>7792</td>\n",
       "      <td>6957</td>\n",
       "      <td>7726</td>\n",
       "      <td>8106</td>\n",
       "      <td>8890</td>\n",
       "      <td>9299</td>\n",
       "      <td>10625</td>\n",
       "      <td>9302</td>\n",
       "      <td>8314</td>\n",
       "      <td>8850</td>\n",
       "      <td>8265</td>\n",
       "      <td>8796</td>\n",
       "    </tr>\n",
       "    <tr>\n",
       "      <th>1978</th>\n",
       "      <td>7836</td>\n",
       "      <td>6892</td>\n",
       "      <td>7791</td>\n",
       "      <td>8192</td>\n",
       "      <td>9115</td>\n",
       "      <td>9434</td>\n",
       "      <td>10484</td>\n",
       "      <td>9827</td>\n",
       "      <td>9110</td>\n",
       "      <td>9070</td>\n",
       "      <td>8633</td>\n",
       "      <td>9240</td>\n",
       "    </tr>\n",
       "  </tbody>\n",
       "</table>\n",
       "</div>"
      ],
      "text/plain": [
       "Month  January  February  March  April    May   June   July  August  \\\n",
       "Year                                                                  \n",
       "1973      9007      8106   8928   9137  10017  10826  11317   10744   \n",
       "1974      7750      6981   8038   8422   8714   9512  10120    9823   \n",
       "1975      8162      7306   8124   7870   9387   9556  10093    9620   \n",
       "1976      7717      7461   7767   7925   8623   8945  10078    9179   \n",
       "1977      7792      6957   7726   8106   8890   9299  10625    9302   \n",
       "1978      7836      6892   7791   8192   9115   9434  10484    9827   \n",
       "\n",
       "Month  September  October  November  December  \n",
       "Year                                           \n",
       "1973        9713     9938      9161      8927  \n",
       "1974        8743     9129      8710      8680  \n",
       "1975        8285     8466      8160      8034  \n",
       "1976        8037     8488      7874      8647  \n",
       "1977        8314     8850      8265      8796  \n",
       "1978        9110     9070      8633      9240  "
      ]
     },
     "execution_count": 2,
     "metadata": {},
     "output_type": "execute_result"
    }
   ],
   "source": [
    "df = pandas.read_csv(\"USAccDeaths.csv\", index_col = \"Year\")\n",
    "df.columns.rename(\"Month\", inplace = True)\n",
    "df.index.rename(\"Year\", inplace = True)\n",
    "df"
   ]
  },
  {
   "cell_type": "markdown",
   "metadata": {
    "slideshow": {
     "slide_type": "slide"
    }
   },
   "source": [
    "## Calcul de AFC"
   ]
  },
  {
   "cell_type": "code",
   "execution_count": 3,
   "metadata": {},
   "outputs": [
    {
     "data": {
      "text/plain": [
       "<prince.ca.CA at 0x13be22f40>"
      ]
     },
     "execution_count": 3,
     "metadata": {},
     "output_type": "execute_result"
    }
   ],
   "source": [
    "ca = CA(n_components = 5) # minimum du nombre de modalités - 1\n",
    "ca.fit(df)"
   ]
  },
  {
   "cell_type": "markdown",
   "metadata": {
    "slideshow": {
     "slide_type": "slide"
    }
   },
   "source": [
    "## Valeurs propres"
   ]
  },
  {
   "cell_type": "code",
   "execution_count": 4,
   "metadata": {
    "scrolled": true
   },
   "outputs": [
    {
     "name": "stdout",
     "output_type": "stream",
     "text": [
      "[3.76283456e-04 1.85670084e-04 7.57831853e-05 3.76894447e-05\n",
      " 2.45791383e-05]\n",
      "0.0007000053078490678\n",
      "[53.75437181 26.52409655 10.82608723  5.38416556  3.51127885]\n"
     ]
    }
   ],
   "source": [
    "print(ca.eigenvalues_)\n",
    "print(ca.total_inertia_)\n",
    "print(ca.percentage_of_variance_) # CHANGEMENT ICI"
   ]
  },
  {
   "cell_type": "code",
   "execution_count": 5,
   "metadata": {
    "slideshow": {
     "slide_type": "slide"
    }
   },
   "outputs": [
    {
     "data": {
      "text/html": [
       "<div>\n",
       "<style scoped>\n",
       "    .dataframe tbody tr th:only-of-type {\n",
       "        vertical-align: middle;\n",
       "    }\n",
       "\n",
       "    .dataframe tbody tr th {\n",
       "        vertical-align: top;\n",
       "    }\n",
       "\n",
       "    .dataframe thead th {\n",
       "        text-align: right;\n",
       "    }\n",
       "</style>\n",
       "<table border=\"1\" class=\"dataframe\">\n",
       "  <thead>\n",
       "    <tr style=\"text-align: right;\">\n",
       "      <th></th>\n",
       "      <th>Dimension</th>\n",
       "      <th>% variance expliquée</th>\n",
       "      <th>% variance expliquée cumulée</th>\n",
       "    </tr>\n",
       "  </thead>\n",
       "  <tbody>\n",
       "    <tr>\n",
       "      <th>0</th>\n",
       "      <td>Dim1</td>\n",
       "      <td>5375.44</td>\n",
       "      <td>5375.44</td>\n",
       "    </tr>\n",
       "    <tr>\n",
       "      <th>1</th>\n",
       "      <td>Dim2</td>\n",
       "      <td>2652.41</td>\n",
       "      <td>8027.85</td>\n",
       "    </tr>\n",
       "    <tr>\n",
       "      <th>2</th>\n",
       "      <td>Dim3</td>\n",
       "      <td>1082.61</td>\n",
       "      <td>9110.46</td>\n",
       "    </tr>\n",
       "    <tr>\n",
       "      <th>3</th>\n",
       "      <td>Dim4</td>\n",
       "      <td>538.42</td>\n",
       "      <td>9648.87</td>\n",
       "    </tr>\n",
       "    <tr>\n",
       "      <th>4</th>\n",
       "      <td>Dim5</td>\n",
       "      <td>351.13</td>\n",
       "      <td>10000.00</td>\n",
       "    </tr>\n",
       "  </tbody>\n",
       "</table>\n",
       "</div>"
      ],
      "text/plain": [
       "  Dimension  % variance expliquée  % variance expliquée cumulée\n",
       "0      Dim1               5375.44                       5375.44\n",
       "1      Dim2               2652.41                       8027.85\n",
       "2      Dim3               1082.61                       9110.46\n",
       "3      Dim4                538.42                       9648.87\n",
       "4      Dim5                351.13                      10000.00"
      ]
     },
     "execution_count": 5,
     "metadata": {},
     "output_type": "execute_result"
    }
   ],
   "source": [
    "eig = pandas.DataFrame(\n",
    "    { \n",
    "        \"Dimension\" : [\"Dim\" + str(x + 1) for x in range(5)],\n",
    "        \"% variance expliquée\": numpy.round(ca.percentage_of_variance_, 4) * 100,\n",
    "        \"% variance expliquée cumulée\": numpy.round(numpy.cumsum(ca.percentage_of_variance_), 4) * 100,\n",
    "    }\n",
    ")\n",
    "eig"
   ]
  },
  {
   "cell_type": "markdown",
   "metadata": {
    "slideshow": {
     "slide_type": "slide"
    }
   },
   "source": [
    "## Choix des facteurs"
   ]
  },
  {
   "cell_type": "code",
   "execution_count": 6,
   "metadata": {},
   "outputs": [
    {
     "data": {
      "image/png": "[encoded data removed]",
      "text/plain": [
       "<Figure size 1600x600 with 1 Axes>"
      ]
     },
     "metadata": {},
     "output_type": "display_data"
    }
   ],
   "source": [
    "plt.figure(figsize=(16, 6))\n",
    "g_eig = seaborn.barplot(x = \"Dimension\", \n",
    "                        y = \"% variance expliquée\",\n",
    "                        color = \"lightseagreen\",\n",
    "                        data = eig)\n",
    "g_eig.set(ylabel = \"Variance expliquée (%)\")\n",
    "g_eig.figure.suptitle(\"Variance expliquée par dimension\")\n",
    "\n",
    "plt.show()"
   ]
  },
  {
   "cell_type": "markdown",
   "metadata": {
    "slideshow": {
     "slide_type": "slide"
    }
   },
   "source": [
    "## Représentation des lignes"
   ]
  },
  {
   "cell_type": "code",
   "execution_count": 7,
   "metadata": {},
   "outputs": [
    {
     "data": {
      "text/html": [
       "<div>\n",
       "<style scoped>\n",
       "    .dataframe tbody tr th:only-of-type {\n",
       "        vertical-align: middle;\n",
       "    }\n",
       "\n",
       "    .dataframe tbody tr th {\n",
       "        vertical-align: top;\n",
       "    }\n",
       "\n",
       "    .dataframe thead th {\n",
       "        text-align: right;\n",
       "    }\n",
       "</style>\n",
       "<table border=\"1\" class=\"dataframe\">\n",
       "  <thead>\n",
       "    <tr style=\"text-align: right;\">\n",
       "      <th></th>\n",
       "      <th>Dim1</th>\n",
       "      <th>Dim2</th>\n",
       "      <th>2</th>\n",
       "      <th>3</th>\n",
       "      <th>4</th>\n",
       "    </tr>\n",
       "    <tr>\n",
       "      <th>Year</th>\n",
       "      <th></th>\n",
       "      <th></th>\n",
       "      <th></th>\n",
       "      <th></th>\n",
       "      <th></th>\n",
       "    </tr>\n",
       "  </thead>\n",
       "  <tbody>\n",
       "    <tr>\n",
       "      <th>1973</th>\n",
       "      <td>0.017407</td>\n",
       "      <td>-0.013220</td>\n",
       "      <td>0.004260</td>\n",
       "      <td>0.004290</td>\n",
       "      <td>0.006992</td>\n",
       "    </tr>\n",
       "    <tr>\n",
       "      <th>1974</th>\n",
       "      <td>-0.013806</td>\n",
       "      <td>-0.014447</td>\n",
       "      <td>0.011227</td>\n",
       "      <td>-0.001709</td>\n",
       "      <td>-0.006420</td>\n",
       "    </tr>\n",
       "    <tr>\n",
       "      <th>1975</th>\n",
       "      <td>0.030026</td>\n",
       "      <td>-0.000779</td>\n",
       "      <td>-0.009876</td>\n",
       "      <td>-0.003899</td>\n",
       "      <td>-0.005081</td>\n",
       "    </tr>\n",
       "    <tr>\n",
       "      <th>1976</th>\n",
       "      <td>0.003461</td>\n",
       "      <td>0.024649</td>\n",
       "      <td>0.009397</td>\n",
       "      <td>-0.004836</td>\n",
       "      <td>0.002169</td>\n",
       "    </tr>\n",
       "    <tr>\n",
       "      <th>1977</th>\n",
       "      <td>-0.011677</td>\n",
       "      <td>0.010810</td>\n",
       "      <td>-0.004949</td>\n",
       "      <td>0.011591</td>\n",
       "      <td>-0.002571</td>\n",
       "    </tr>\n",
       "    <tr>\n",
       "      <th>1978</th>\n",
       "      <td>-0.026633</td>\n",
       "      <td>-0.004477</td>\n",
       "      <td>-0.010296</td>\n",
       "      <td>-0.005888</td>\n",
       "      <td>0.004086</td>\n",
       "    </tr>\n",
       "  </tbody>\n",
       "</table>\n",
       "</div>"
      ],
      "text/plain": [
       "          Dim1      Dim2         2         3         4\n",
       "Year                                                  \n",
       "1973  0.017407 -0.013220  0.004260  0.004290  0.006992\n",
       "1974 -0.013806 -0.014447  0.011227 -0.001709 -0.006420\n",
       "1975  0.030026 -0.000779 -0.009876 -0.003899 -0.005081\n",
       "1976  0.003461  0.024649  0.009397 -0.004836  0.002169\n",
       "1977 -0.011677  0.010810 -0.004949  0.011591 -0.002571\n",
       "1978 -0.026633 -0.004477 -0.010296 -0.005888  0.004086"
      ]
     },
     "execution_count": 7,
     "metadata": {},
     "output_type": "execute_result"
    }
   ],
   "source": [
    "df_row = pandas.DataFrame(ca.row_coordinates(df)).rename(columns = {0: \"Dim1\", 1: \"Dim2\"})\n",
    "df_row"
   ]
  },
  {
   "cell_type": "code",
   "execution_count": 8,
   "metadata": {
    "slideshow": {
     "slide_type": "slide"
    }
   },
   "outputs": [
    {
     "data": {
      "image/png": "[encoded data removed]",
      "text/plain": [
       "<Figure size 1200x400 with 1 Axes>"
      ]
     },
     "metadata": {},
     "output_type": "display_data"
    }
   ],
   "source": [
    "g_row = seaborn.lmplot(x = \"Dim1\", y = \"Dim2\", data = df_row, fit_reg = False, \n",
    "                       height = 4, aspect = 3)\n",
    "g_row.fig.suptitle(\"Modalités en lignes\")\n",
    "for i in df_row.index:\n",
    "    plt.text(df_row.loc[i].Dim1, df_row.loc[i].Dim2, i, size = \"xx-large\")\n",
    "plt.show()"
   ]
  },
  {
   "cell_type": "markdown",
   "metadata": {
    "slideshow": {
     "slide_type": "slide"
    }
   },
   "source": [
    "## Représentation des colonnes"
   ]
  },
  {
   "cell_type": "code",
   "execution_count": 9,
   "metadata": {},
   "outputs": [
    {
     "name": "stderr",
     "output_type": "stream",
     "text": [
      "/usr/local/lib/python3.9/site-packages/prince/ca.py:206: FutureWarning: is_sparse is deprecated and will be removed in a future version. Check `isinstance(dtype, pd.SparseDtype)` instead.\n",
      "  is_sparse = X.dtypes.apply(pd.api.types.is_sparse).all()\n"
     ]
    },
    {
     "data": {
      "text/html": [
       "<div>\n",
       "<style scoped>\n",
       "    .dataframe tbody tr th:only-of-type {\n",
       "        vertical-align: middle;\n",
       "    }\n",
       "\n",
       "    .dataframe tbody tr th {\n",
       "        vertical-align: top;\n",
       "    }\n",
       "\n",
       "    .dataframe thead th {\n",
       "        text-align: right;\n",
       "    }\n",
       "</style>\n",
       "<table border=\"1\" class=\"dataframe\">\n",
       "  <thead>\n",
       "    <tr style=\"text-align: right;\">\n",
       "      <th></th>\n",
       "      <th>Dim1</th>\n",
       "      <th>Dim2</th>\n",
       "      <th>2</th>\n",
       "      <th>3</th>\n",
       "      <th>4</th>\n",
       "    </tr>\n",
       "    <tr>\n",
       "      <th>Month</th>\n",
       "      <th></th>\n",
       "      <th></th>\n",
       "      <th></th>\n",
       "      <th></th>\n",
       "      <th></th>\n",
       "    </tr>\n",
       "  </thead>\n",
       "  <tbody>\n",
       "    <tr>\n",
       "      <th>January</th>\n",
       "      <td>0.023375</td>\n",
       "      <td>0.003002</td>\n",
       "      <td>-0.004639</td>\n",
       "      <td>0.001429</td>\n",
       "      <td>0.001994</td>\n",
       "    </tr>\n",
       "    <tr>\n",
       "      <th>February</th>\n",
       "      <td>0.029632</td>\n",
       "      <td>0.024436</td>\n",
       "      <td>0.014401</td>\n",
       "      <td>-0.006230</td>\n",
       "      <td>0.005528</td>\n",
       "    </tr>\n",
       "    <tr>\n",
       "      <th>March</th>\n",
       "      <td>0.018686</td>\n",
       "      <td>-0.000595</td>\n",
       "      <td>0.006133</td>\n",
       "      <td>-0.003373</td>\n",
       "      <td>-0.006826</td>\n",
       "    </tr>\n",
       "    <tr>\n",
       "      <th>April</th>\n",
       "      <td>-0.006568</td>\n",
       "      <td>-0.003396</td>\n",
       "      <td>0.013345</td>\n",
       "      <td>0.004948</td>\n",
       "      <td>-0.001407</td>\n",
       "    </tr>\n",
       "    <tr>\n",
       "      <th>May</th>\n",
       "      <td>0.018069</td>\n",
       "      <td>0.002971</td>\n",
       "      <td>-0.018906</td>\n",
       "      <td>-0.002541</td>\n",
       "      <td>-0.001863</td>\n",
       "    </tr>\n",
       "    <tr>\n",
       "      <th>June</th>\n",
       "      <td>0.013585</td>\n",
       "      <td>-0.011738</td>\n",
       "      <td>-0.001110</td>\n",
       "      <td>0.005372</td>\n",
       "      <td>0.000419</td>\n",
       "    </tr>\n",
       "    <tr>\n",
       "      <th>July</th>\n",
       "      <td>-0.006641</td>\n",
       "      <td>0.014813</td>\n",
       "      <td>-0.006718</td>\n",
       "      <td>0.011894</td>\n",
       "      <td>0.000836</td>\n",
       "    </tr>\n",
       "    <tr>\n",
       "      <th>August</th>\n",
       "      <td>0.001480</td>\n",
       "      <td>-0.010823</td>\n",
       "      <td>0.000180</td>\n",
       "      <td>-0.007366</td>\n",
       "      <td>-0.002311</td>\n",
       "    </tr>\n",
       "    <tr>\n",
       "      <th>September</th>\n",
       "      <td>-0.014577</td>\n",
       "      <td>-0.019645</td>\n",
       "      <td>-0.003744</td>\n",
       "      <td>-0.005379</td>\n",
       "      <td>0.011479</td>\n",
       "    </tr>\n",
       "    <tr>\n",
       "      <th>October</th>\n",
       "      <td>-0.013734</td>\n",
       "      <td>-0.007586</td>\n",
       "      <td>0.008094</td>\n",
       "      <td>0.006472</td>\n",
       "      <td>0.002180</td>\n",
       "    </tr>\n",
       "    <tr>\n",
       "      <th>November</th>\n",
       "      <td>-0.015175</td>\n",
       "      <td>-0.012299</td>\n",
       "      <td>0.000979</td>\n",
       "      <td>-0.001664</td>\n",
       "      <td>-0.008809</td>\n",
       "    </tr>\n",
       "    <tr>\n",
       "      <th>December</th>\n",
       "      <td>-0.041467</td>\n",
       "      <td>0.024106</td>\n",
       "      <td>-0.002788</td>\n",
       "      <td>-0.006655</td>\n",
       "      <td>-0.000887</td>\n",
       "    </tr>\n",
       "  </tbody>\n",
       "</table>\n",
       "</div>"
      ],
      "text/plain": [
       "               Dim1      Dim2         2         3         4\n",
       "Month                                                      \n",
       "January    0.023375  0.003002 -0.004639  0.001429  0.001994\n",
       "February   0.029632  0.024436  0.014401 -0.006230  0.005528\n",
       "March      0.018686 -0.000595  0.006133 -0.003373 -0.006826\n",
       "April     -0.006568 -0.003396  0.013345  0.004948 -0.001407\n",
       "May        0.018069  0.002971 -0.018906 -0.002541 -0.001863\n",
       "June       0.013585 -0.011738 -0.001110  0.005372  0.000419\n",
       "July      -0.006641  0.014813 -0.006718  0.011894  0.000836\n",
       "August     0.001480 -0.010823  0.000180 -0.007366 -0.002311\n",
       "September -0.014577 -0.019645 -0.003744 -0.005379  0.011479\n",
       "October   -0.013734 -0.007586  0.008094  0.006472  0.002180\n",
       "November  -0.015175 -0.012299  0.000979 -0.001664 -0.008809\n",
       "December  -0.041467  0.024106 -0.002788 -0.006655 -0.000887"
      ]
     },
     "execution_count": 9,
     "metadata": {},
     "output_type": "execute_result"
    }
   ],
   "source": [
    "df_col = pandas.DataFrame(ca.column_coordinates(df)).rename(columns = {0: \"Dim1\", 1: \"Dim2\"})\n",
    "df_col"
   ]
  },
  {
   "cell_type": "code",
   "execution_count": 10,
   "metadata": {
    "slideshow": {
     "slide_type": "slide"
    }
   },
   "outputs": [
    {
     "data": {
      "image/png": "[encoded data removed]",
      "text/plain": [
       "<Figure size 1200x400 with 1 Axes>"
      ]
     },
     "metadata": {},
     "output_type": "display_data"
    }
   ],
   "source": [
    "g_col = seaborn.lmplot(x = \"Dim1\", y = \"Dim2\", data = df_col, fit_reg = False, \n",
    "                       height = 4, aspect = 3)\n",
    "g_col.fig.suptitle(\"Modalités en colonnes\")\n",
    "for i in df_col.index:\n",
    "    plt.text(df_col.loc[i].Dim1, df_col.loc[i].Dim2, i, size = \"xx-large\")\n",
    "plt.show()"
   ]
  },
  {
   "cell_type": "markdown",
   "metadata": {
    "slideshow": {
     "slide_type": "slide"
    }
   },
   "source": [
    "## Représentation simultanée"
   ]
  },
  {
   "cell_type": "code",
   "execution_count": 11,
   "metadata": {
    "scrolled": false,
    "slideshow": {
     "slide_type": "slide"
    }
   },
   "outputs": [
    {
     "data": {
      "image/png": "[encoded data removed]",
      "text/plain": [
       "<Figure size 1600x800 with 1 Axes>"
      ]
     },
     "metadata": {},
     "output_type": "display_data"
    }
   ],
   "source": [
    "fig = plt.figure(figsize = (16,8))\n",
    "plt.xlim(-.05, .05)\n",
    "plt.ylim(-.05, .05)\n",
    "\n",
    "plt.axhline(y=0, color = \"lightgray\", linestyle = \"dashed\")\n",
    "plt.axvline(x=0, color = \"lightgray\", linestyle = \"dashed\")\n",
    "\n",
    "for i in df_row.index:\n",
    "    plt.scatter(df_row.loc[i].Dim1, df_row.loc[i].Dim2, alpha = .25, c = \"black\")\n",
    "    plt.text(df_row.loc[i].Dim1, df_row.loc[i].Dim2, i, size = \"xx-large\", color = \"darkblue\", ha = \"center\")\n",
    "\n",
    "for i in df_col.index:\n",
    "    plt.scatter(df_col.loc[i].Dim1, df_col.loc[i].Dim2, alpha = .25, c = \"black\")\n",
    "    plt.text(df_col.loc[i].Dim1, df_col.loc[i].Dim2, i, size = \"xx-large\", color = \"darkred\", ha = \"center\")\n",
    "\n",
    "fig.suptitle(\"Représentation conjointe\")\n",
    "plt.show()"
   ]
  },
  {
   "cell_type": "markdown",
   "metadata": {
    "slideshow": {
     "slide_type": "slide"
    }
   },
   "source": [
    "## Importance de chaque modalité"
   ]
  },
  {
   "cell_type": "code",
   "execution_count": 12,
   "metadata": {},
   "outputs": [
    {
     "data": {
      "image/png": "[encoded data removed]",
      "text/plain": [
       "<Figure size 1600x400 with 1 Axes>"
      ]
     },
     "metadata": {},
     "output_type": "display_data"
    }
   ],
   "source": [
    "plt.figure(figsize = (16, 4))\n",
    "plt.bar(df.index, ca.row_masses_, color = \"darkblue\")\n",
    "plt.show()"
   ]
  },
  {
   "cell_type": "code",
   "execution_count": 13,
   "metadata": {},
   "outputs": [
    {
     "data": {
      "image/png": "[encoded data removed]",
      "text/plain": [
       "<Figure size 1600x400 with 1 Axes>"
      ]
     },
     "metadata": {},
     "output_type": "display_data"
    }
   ],
   "source": [
    "plt.figure(figsize = (16, 4))\n",
    "plt.bar(df.columns, ca.col_masses_, color = \"darkred\")\n",
    "plt.show()"
   ]
  },
  {
   "cell_type": "markdown",
   "metadata": {
    "slideshow": {
     "slide_type": "slide"
    }
   },
   "source": [
    "## AFC - Profils lignes"
   ]
  },
  {
   "cell_type": "code",
   "execution_count": 14,
   "metadata": {
    "scrolled": true
   },
   "outputs": [
    {
     "data": {
      "text/html": [
       "<div>\n",
       "<style scoped>\n",
       "    .dataframe tbody tr th:only-of-type {\n",
       "        vertical-align: middle;\n",
       "    }\n",
       "\n",
       "    .dataframe tbody tr th {\n",
       "        vertical-align: top;\n",
       "    }\n",
       "\n",
       "    .dataframe thead th {\n",
       "        text-align: right;\n",
       "    }\n",
       "</style>\n",
       "<table border=\"1\" class=\"dataframe\">\n",
       "  <thead>\n",
       "    <tr style=\"text-align: right;\">\n",
       "      <th>Month</th>\n",
       "      <th>January</th>\n",
       "      <th>February</th>\n",
       "      <th>March</th>\n",
       "      <th>April</th>\n",
       "      <th>May</th>\n",
       "      <th>June</th>\n",
       "      <th>July</th>\n",
       "      <th>August</th>\n",
       "      <th>September</th>\n",
       "      <th>October</th>\n",
       "      <th>November</th>\n",
       "      <th>December</th>\n",
       "    </tr>\n",
       "    <tr>\n",
       "      <th>Year</th>\n",
       "      <th></th>\n",
       "      <th></th>\n",
       "      <th></th>\n",
       "      <th></th>\n",
       "      <th></th>\n",
       "      <th></th>\n",
       "      <th></th>\n",
       "      <th></th>\n",
       "      <th></th>\n",
       "      <th></th>\n",
       "      <th></th>\n",
       "      <th></th>\n",
       "    </tr>\n",
       "  </thead>\n",
       "  <tbody>\n",
       "    <tr>\n",
       "      <th>1973</th>\n",
       "      <td>7.78</td>\n",
       "      <td>7.00</td>\n",
       "      <td>7.71</td>\n",
       "      <td>7.89</td>\n",
       "      <td>8.65</td>\n",
       "      <td>9.35</td>\n",
       "      <td>9.77</td>\n",
       "      <td>9.28</td>\n",
       "      <td>8.39</td>\n",
       "      <td>8.58</td>\n",
       "      <td>7.91</td>\n",
       "      <td>7.71</td>\n",
       "    </tr>\n",
       "    <tr>\n",
       "      <th>1974</th>\n",
       "      <td>7.41</td>\n",
       "      <td>6.67</td>\n",
       "      <td>7.68</td>\n",
       "      <td>8.05</td>\n",
       "      <td>8.33</td>\n",
       "      <td>9.09</td>\n",
       "      <td>9.67</td>\n",
       "      <td>9.39</td>\n",
       "      <td>8.36</td>\n",
       "      <td>8.73</td>\n",
       "      <td>8.33</td>\n",
       "      <td>8.30</td>\n",
       "    </tr>\n",
       "    <tr>\n",
       "      <th>1975</th>\n",
       "      <td>7.92</td>\n",
       "      <td>7.09</td>\n",
       "      <td>7.88</td>\n",
       "      <td>7.64</td>\n",
       "      <td>9.11</td>\n",
       "      <td>9.27</td>\n",
       "      <td>9.79</td>\n",
       "      <td>9.33</td>\n",
       "      <td>8.04</td>\n",
       "      <td>8.21</td>\n",
       "      <td>7.92</td>\n",
       "      <td>7.80</td>\n",
       "    </tr>\n",
       "    <tr>\n",
       "      <th>1976</th>\n",
       "      <td>7.66</td>\n",
       "      <td>7.41</td>\n",
       "      <td>7.71</td>\n",
       "      <td>7.87</td>\n",
       "      <td>8.56</td>\n",
       "      <td>8.88</td>\n",
       "      <td>10.00</td>\n",
       "      <td>9.11</td>\n",
       "      <td>7.98</td>\n",
       "      <td>8.43</td>\n",
       "      <td>7.82</td>\n",
       "      <td>8.58</td>\n",
       "    </tr>\n",
       "    <tr>\n",
       "      <th>1977</th>\n",
       "      <td>7.57</td>\n",
       "      <td>6.76</td>\n",
       "      <td>7.51</td>\n",
       "      <td>7.88</td>\n",
       "      <td>8.64</td>\n",
       "      <td>9.03</td>\n",
       "      <td>10.32</td>\n",
       "      <td>9.04</td>\n",
       "      <td>8.08</td>\n",
       "      <td>8.60</td>\n",
       "      <td>8.03</td>\n",
       "      <td>8.55</td>\n",
       "    </tr>\n",
       "    <tr>\n",
       "      <th>1978</th>\n",
       "      <td>7.42</td>\n",
       "      <td>6.53</td>\n",
       "      <td>7.38</td>\n",
       "      <td>7.76</td>\n",
       "      <td>8.63</td>\n",
       "      <td>8.93</td>\n",
       "      <td>9.93</td>\n",
       "      <td>9.30</td>\n",
       "      <td>8.62</td>\n",
       "      <td>8.59</td>\n",
       "      <td>8.17</td>\n",
       "      <td>8.75</td>\n",
       "    </tr>\n",
       "  </tbody>\n",
       "</table>\n",
       "</div>"
      ],
      "text/plain": [
       "Month  January  February  March  April   May  June   July  August  September  \\\n",
       "Year                                                                           \n",
       "1973      7.78      7.00   7.71   7.89  8.65  9.35   9.77    9.28       8.39   \n",
       "1974      7.41      6.67   7.68   8.05  8.33  9.09   9.67    9.39       8.36   \n",
       "1975      7.92      7.09   7.88   7.64  9.11  9.27   9.79    9.33       8.04   \n",
       "1976      7.66      7.41   7.71   7.87  8.56  8.88  10.00    9.11       7.98   \n",
       "1977      7.57      6.76   7.51   7.88  8.64  9.03  10.32    9.04       8.08   \n",
       "1978      7.42      6.53   7.38   7.76  8.63  8.93   9.93    9.30       8.62   \n",
       "\n",
       "Month  October  November  December  \n",
       "Year                                \n",
       "1973      8.58      7.91      7.71  \n",
       "1974      8.73      8.33      8.30  \n",
       "1975      8.21      7.92      7.80  \n",
       "1976      8.43      7.82      8.58  \n",
       "1977      8.60      8.03      8.55  \n",
       "1978      8.59      8.17      8.75  "
      ]
     },
     "execution_count": 14,
     "metadata": {},
     "output_type": "execute_result"
    }
   ],
   "source": [
    "p_row = df.div(df.sum(axis=1), axis=0).round(4) * 100\n",
    "p_row"
   ]
  },
  {
   "cell_type": "code",
   "execution_count": 15,
   "metadata": {
    "slideshow": {
     "slide_type": "slide"
    }
   },
   "outputs": [
    {
     "data": {
      "image/png": "[encoded data removed]",
      "text/plain": [
       "<Figure size 1600x800 with 1 Axes>"
      ]
     },
     "metadata": {},
     "output_type": "display_data"
    }
   ],
   "source": [
    "fig = plt.figure(figsize = (16, 8))\n",
    "base = numpy.zeros(6)\n",
    "for m in p_row.columns:\n",
    "    plt.bar(p_row.index, p_row[m], bottom = base, label = m)\n",
    "    base = base + p_row[m]\n",
    "plt.margins(0.05, 0.15)\n",
    "plt.legend(ncol = 6, loc = 9)\n",
    "plt.show()"
   ]
  },
  {
   "cell_type": "markdown",
   "metadata": {
    "slideshow": {
     "slide_type": "slide"
    }
   },
   "source": [
    "## AFC - Profils colonnes\n"
   ]
  },
  {
   "cell_type": "code",
   "execution_count": 16,
   "metadata": {},
   "outputs": [
    {
     "data": {
      "text/html": [
       "<div>\n",
       "<style scoped>\n",
       "    .dataframe tbody tr th:only-of-type {\n",
       "        vertical-align: middle;\n",
       "    }\n",
       "\n",
       "    .dataframe tbody tr th {\n",
       "        vertical-align: top;\n",
       "    }\n",
       "\n",
       "    .dataframe thead th {\n",
       "        text-align: right;\n",
       "    }\n",
       "</style>\n",
       "<table border=\"1\" class=\"dataframe\">\n",
       "  <thead>\n",
       "    <tr style=\"text-align: right;\">\n",
       "      <th>Month</th>\n",
       "      <th>January</th>\n",
       "      <th>February</th>\n",
       "      <th>March</th>\n",
       "      <th>April</th>\n",
       "      <th>May</th>\n",
       "      <th>June</th>\n",
       "      <th>July</th>\n",
       "      <th>August</th>\n",
       "      <th>September</th>\n",
       "      <th>October</th>\n",
       "      <th>November</th>\n",
       "      <th>December</th>\n",
       "    </tr>\n",
       "    <tr>\n",
       "      <th>Year</th>\n",
       "      <th></th>\n",
       "      <th></th>\n",
       "      <th></th>\n",
       "      <th></th>\n",
       "      <th></th>\n",
       "      <th></th>\n",
       "      <th></th>\n",
       "      <th></th>\n",
       "      <th></th>\n",
       "      <th></th>\n",
       "      <th></th>\n",
       "      <th></th>\n",
       "    </tr>\n",
       "  </thead>\n",
       "  <tbody>\n",
       "    <tr>\n",
       "      <th>1973</th>\n",
       "      <td>18.66</td>\n",
       "      <td>18.55</td>\n",
       "      <td>18.46</td>\n",
       "      <td>18.40</td>\n",
       "      <td>18.30</td>\n",
       "      <td>18.80</td>\n",
       "      <td>18.04</td>\n",
       "      <td>18.37</td>\n",
       "      <td>18.61</td>\n",
       "      <td>18.42</td>\n",
       "      <td>18.03</td>\n",
       "      <td>17.06</td>\n",
       "    </tr>\n",
       "    <tr>\n",
       "      <th>1974</th>\n",
       "      <td>16.06</td>\n",
       "      <td>15.97</td>\n",
       "      <td>16.62</td>\n",
       "      <td>16.96</td>\n",
       "      <td>15.92</td>\n",
       "      <td>16.52</td>\n",
       "      <td>16.14</td>\n",
       "      <td>16.79</td>\n",
       "      <td>16.75</td>\n",
       "      <td>16.92</td>\n",
       "      <td>17.14</td>\n",
       "      <td>16.59</td>\n",
       "    </tr>\n",
       "    <tr>\n",
       "      <th>1975</th>\n",
       "      <td>16.91</td>\n",
       "      <td>16.72</td>\n",
       "      <td>16.79</td>\n",
       "      <td>15.85</td>\n",
       "      <td>17.15</td>\n",
       "      <td>16.60</td>\n",
       "      <td>16.09</td>\n",
       "      <td>16.45</td>\n",
       "      <td>15.87</td>\n",
       "      <td>15.69</td>\n",
       "      <td>16.06</td>\n",
       "      <td>15.35</td>\n",
       "    </tr>\n",
       "    <tr>\n",
       "      <th>1976</th>\n",
       "      <td>15.99</td>\n",
       "      <td>17.07</td>\n",
       "      <td>16.06</td>\n",
       "      <td>15.96</td>\n",
       "      <td>15.75</td>\n",
       "      <td>15.54</td>\n",
       "      <td>16.07</td>\n",
       "      <td>15.69</td>\n",
       "      <td>15.40</td>\n",
       "      <td>15.74</td>\n",
       "      <td>15.50</td>\n",
       "      <td>16.53</td>\n",
       "    </tr>\n",
       "    <tr>\n",
       "      <th>1977</th>\n",
       "      <td>16.14</td>\n",
       "      <td>15.92</td>\n",
       "      <td>15.97</td>\n",
       "      <td>16.33</td>\n",
       "      <td>16.24</td>\n",
       "      <td>16.15</td>\n",
       "      <td>16.94</td>\n",
       "      <td>15.90</td>\n",
       "      <td>15.93</td>\n",
       "      <td>16.41</td>\n",
       "      <td>16.27</td>\n",
       "      <td>16.81</td>\n",
       "    </tr>\n",
       "    <tr>\n",
       "      <th>1978</th>\n",
       "      <td>16.24</td>\n",
       "      <td>15.77</td>\n",
       "      <td>16.11</td>\n",
       "      <td>16.50</td>\n",
       "      <td>16.65</td>\n",
       "      <td>16.39</td>\n",
       "      <td>16.72</td>\n",
       "      <td>16.80</td>\n",
       "      <td>17.45</td>\n",
       "      <td>16.81</td>\n",
       "      <td>16.99</td>\n",
       "      <td>17.66</td>\n",
       "    </tr>\n",
       "  </tbody>\n",
       "</table>\n",
       "</div>"
      ],
      "text/plain": [
       "Month  January  February  March  April    May   June   July  August  \\\n",
       "Year                                                                  \n",
       "1973     18.66     18.55  18.46  18.40  18.30  18.80  18.04   18.37   \n",
       "1974     16.06     15.97  16.62  16.96  15.92  16.52  16.14   16.79   \n",
       "1975     16.91     16.72  16.79  15.85  17.15  16.60  16.09   16.45   \n",
       "1976     15.99     17.07  16.06  15.96  15.75  15.54  16.07   15.69   \n",
       "1977     16.14     15.92  15.97  16.33  16.24  16.15  16.94   15.90   \n",
       "1978     16.24     15.77  16.11  16.50  16.65  16.39  16.72   16.80   \n",
       "\n",
       "Month  September  October  November  December  \n",
       "Year                                           \n",
       "1973       18.61    18.42     18.03     17.06  \n",
       "1974       16.75    16.92     17.14     16.59  \n",
       "1975       15.87    15.69     16.06     15.35  \n",
       "1976       15.40    15.74     15.50     16.53  \n",
       "1977       15.93    16.41     16.27     16.81  \n",
       "1978       17.45    16.81     16.99     17.66  "
      ]
     },
     "execution_count": 16,
     "metadata": {},
     "output_type": "execute_result"
    }
   ],
   "source": [
    "p_col = df.div(df.sum(axis=0), axis=1).round(4) * 100\n",
    "p_col"
   ]
  },
  {
   "cell_type": "code",
   "execution_count": 17,
   "metadata": {
    "slideshow": {
     "slide_type": "-"
    }
   },
   "outputs": [
    {
     "data": {
      "image/png": "[encoded data removed]",
      "text/plain": [
       "<Figure size 1600x800 with 1 Axes>"
      ]
     },
     "metadata": {},
     "output_type": "display_data"
    }
   ],
   "source": [
    "fig = plt.figure(figsize = (16, 8))\n",
    "base = numpy.zeros(12)\n",
    "for m in p_col.index:\n",
    "    plt.bar(p_col.columns, p_col.loc[m], bottom = base, label = m)\n",
    "    base = base + p_col.loc[m]\n",
    "plt.margins(0.05, 0.15)\n",
    "#plt.legend(ncol = 6, loc = 9) # NE FONCTIONNE PAS CHEZ MOI ACTUELLEMENT...\n",
    "plt.show()"
   ]
  },
  {
   "cell_type": "markdown",
   "metadata": {},
   "source": [
    "## Catégories socio-professionnelles dans les régions française\n",
    "\n",
    "Nous disposons sur cette [page](https://www.insee.fr/fr/statistiques/1893185) de la répartition de la population active de 25 à 54 ans selon la catégorie socioprofessionnelle et la position vis à vis de l’emploi, par commune et département (de 1968 à 2014). \n",
    "\n",
    "Les codes ci-dessous vous montrent comment les importer."
   ]
  },
  {
   "cell_type": "code",
   "execution_count": 19,
   "metadata": {},
   "outputs": [
    {
     "data": {
      "text/html": [
       "<div>\n",
       "<style scoped>\n",
       "    .dataframe tbody tr th:only-of-type {\n",
       "        vertical-align: middle;\n",
       "    }\n",
       "\n",
       "    .dataframe tbody tr th {\n",
       "        vertical-align: top;\n",
       "    }\n",
       "\n",
       "    .dataframe thead th {\n",
       "        text-align: right;\n",
       "    }\n",
       "</style>\n",
       "<table border=\"1\" class=\"dataframe\">\n",
       "  <thead>\n",
       "    <tr style=\"text-align: right;\">\n",
       "      <th></th>\n",
       "      <th>Agriculteurs Actifs ayant un emploi RP1968</th>\n",
       "      <th>Agriculteurs Chômeurs RP1968</th>\n",
       "      <th>Artisans, commerçants, chefs d'entreprise Actifs ayant un emploi RP1968</th>\n",
       "      <th>Artisans, commerçants, chefs d'entreprise Chômeurs RP1968</th>\n",
       "      <th>Cadres et professions intellectuelles supérieures Actifs ayant un emploi RP1968</th>\n",
       "      <th>Cadres et professions intellectuelles supérieures Chômeurs RP1968</th>\n",
       "      <th>Professions intermédiaires Actifs ayant un emploi RP1968</th>\n",
       "      <th>Professions intermédiaires Chômeurs RP1968</th>\n",
       "      <th>Employés Actifs ayant un emploi RP1968</th>\n",
       "      <th>Employés Chômeurs RP1968</th>\n",
       "      <th>Ouvriers Actifs ayant un emploi RP1968</th>\n",
       "      <th>Ouvriers Chômeurs RP1968</th>\n",
       "    </tr>\n",
       "    <tr>\n",
       "      <th>Région</th>\n",
       "      <th></th>\n",
       "      <th></th>\n",
       "      <th></th>\n",
       "      <th></th>\n",
       "      <th></th>\n",
       "      <th></th>\n",
       "      <th></th>\n",
       "      <th></th>\n",
       "      <th></th>\n",
       "      <th></th>\n",
       "      <th></th>\n",
       "      <th></th>\n",
       "    </tr>\n",
       "  </thead>\n",
       "  <tbody>\n",
       "    <tr>\n",
       "      <th>Île-de-France</th>\n",
       "      <td>13652</td>\n",
       "      <td>0</td>\n",
       "      <td>221520</td>\n",
       "      <td>12</td>\n",
       "      <td>305912</td>\n",
       "      <td>4212</td>\n",
       "      <td>521652</td>\n",
       "      <td>7328</td>\n",
       "      <td>791704</td>\n",
       "      <td>20832</td>\n",
       "      <td>879892</td>\n",
       "      <td>34556</td>\n",
       "    </tr>\n",
       "    <tr>\n",
       "      <th>Centre-Val de Loire</th>\n",
       "      <td>73128</td>\n",
       "      <td>0</td>\n",
       "      <td>53572</td>\n",
       "      <td>0</td>\n",
       "      <td>21604</td>\n",
       "      <td>144</td>\n",
       "      <td>59452</td>\n",
       "      <td>616</td>\n",
       "      <td>85424</td>\n",
       "      <td>1904</td>\n",
       "      <td>183304</td>\n",
       "      <td>3748</td>\n",
       "    </tr>\n",
       "    <tr>\n",
       "      <th>Bourgogne-Franche-Comté</th>\n",
       "      <td>85284</td>\n",
       "      <td>0</td>\n",
       "      <td>61824</td>\n",
       "      <td>0</td>\n",
       "      <td>26604</td>\n",
       "      <td>84</td>\n",
       "      <td>76732</td>\n",
       "      <td>432</td>\n",
       "      <td>103348</td>\n",
       "      <td>1412</td>\n",
       "      <td>231496</td>\n",
       "      <td>3076</td>\n",
       "    </tr>\n",
       "    <tr>\n",
       "      <th>Normandie</th>\n",
       "      <td>113008</td>\n",
       "      <td>0</td>\n",
       "      <td>69388</td>\n",
       "      <td>0</td>\n",
       "      <td>30088</td>\n",
       "      <td>144</td>\n",
       "      <td>86712</td>\n",
       "      <td>556</td>\n",
       "      <td>113204</td>\n",
       "      <td>2148</td>\n",
       "      <td>256920</td>\n",
       "      <td>5376</td>\n",
       "    </tr>\n",
       "    <tr>\n",
       "      <th>Hauts-de-France</th>\n",
       "      <td>86004</td>\n",
       "      <td>0</td>\n",
       "      <td>119944</td>\n",
       "      <td>0</td>\n",
       "      <td>53872</td>\n",
       "      <td>312</td>\n",
       "      <td>160128</td>\n",
       "      <td>1052</td>\n",
       "      <td>197596</td>\n",
       "      <td>3532</td>\n",
       "      <td>541364</td>\n",
       "      <td>13664</td>\n",
       "    </tr>\n",
       "  </tbody>\n",
       "</table>\n",
       "</div>"
      ],
      "text/plain": [
       "                         Agriculteurs Actifs ayant un emploi RP1968  \\\n",
       "Région                                                                \n",
       "Île-de-France                                                 13652   \n",
       "Centre-Val de Loire                                           73128   \n",
       "Bourgogne-Franche-Comté                                       85284   \n",
       "Normandie                                                    113008   \n",
       "Hauts-de-France                                               86004   \n",
       "\n",
       "                         Agriculteurs Chômeurs RP1968  \\\n",
       "Région                                                  \n",
       "Île-de-France                                       0   \n",
       "Centre-Val de Loire                                 0   \n",
       "Bourgogne-Franche-Comté                             0   \n",
       "Normandie                                           0   \n",
       "Hauts-de-France                                     0   \n",
       "\n",
       "                         Artisans, commerçants, chefs d'entreprise Actifs ayant un emploi RP1968  \\\n",
       "Région                                                                                             \n",
       "Île-de-France                                                       221520                         \n",
       "Centre-Val de Loire                                                  53572                         \n",
       "Bourgogne-Franche-Comté                                              61824                         \n",
       "Normandie                                                            69388                         \n",
       "Hauts-de-France                                                     119944                         \n",
       "\n",
       "                         Artisans, commerçants, chefs d'entreprise Chômeurs RP1968  \\\n",
       "Région                                                                               \n",
       "Île-de-France                                                           12           \n",
       "Centre-Val de Loire                                                      0           \n",
       "Bourgogne-Franche-Comté                                                  0           \n",
       "Normandie                                                                0           \n",
       "Hauts-de-France                                                          0           \n",
       "\n",
       "                         Cadres et professions intellectuelles supérieures Actifs ayant un emploi RP1968  \\\n",
       "Région                                                                                                     \n",
       "Île-de-France                                                       305912                                 \n",
       "Centre-Val de Loire                                                  21604                                 \n",
       "Bourgogne-Franche-Comté                                              26604                                 \n",
       "Normandie                                                            30088                                 \n",
       "Hauts-de-France                                                      53872                                 \n",
       "\n",
       "                         Cadres et professions intellectuelles supérieures Chômeurs RP1968  \\\n",
       "Région                                                                                       \n",
       "Île-de-France                                                         4212                   \n",
       "Centre-Val de Loire                                                    144                   \n",
       "Bourgogne-Franche-Comté                                                 84                   \n",
       "Normandie                                                              144                   \n",
       "Hauts-de-France                                                        312                   \n",
       "\n",
       "                         Professions intermédiaires Actifs ayant un emploi RP1968  \\\n",
       "Région                                                                              \n",
       "Île-de-France                                                       521652          \n",
       "Centre-Val de Loire                                                  59452          \n",
       "Bourgogne-Franche-Comté                                              76732          \n",
       "Normandie                                                            86712          \n",
       "Hauts-de-France                                                     160128          \n",
       "\n",
       "                         Professions intermédiaires Chômeurs RP1968  \\\n",
       "Région                                                                \n",
       "Île-de-France                                                  7328   \n",
       "Centre-Val de Loire                                             616   \n",
       "Bourgogne-Franche-Comté                                         432   \n",
       "Normandie                                                       556   \n",
       "Hauts-de-France                                                1052   \n",
       "\n",
       "                         Employés Actifs ayant un emploi RP1968  \\\n",
       "Région                                                            \n",
       "Île-de-France                                            791704   \n",
       "Centre-Val de Loire                                       85424   \n",
       "Bourgogne-Franche-Comté                                  103348   \n",
       "Normandie                                                113204   \n",
       "Hauts-de-France                                          197596   \n",
       "\n",
       "                         Employés Chômeurs RP1968  \\\n",
       "Région                                              \n",
       "Île-de-France                               20832   \n",
       "Centre-Val de Loire                          1904   \n",
       "Bourgogne-Franche-Comté                      1412   \n",
       "Normandie                                    2148   \n",
       "Hauts-de-France                              3532   \n",
       "\n",
       "                         Ouvriers Actifs ayant un emploi RP1968  \\\n",
       "Région                                                            \n",
       "Île-de-France                                            879892   \n",
       "Centre-Val de Loire                                      183304   \n",
       "Bourgogne-Franche-Comté                                  231496   \n",
       "Normandie                                                256920   \n",
       "Hauts-de-France                                          541364   \n",
       "\n",
       "                         Ouvriers Chômeurs RP1968  \n",
       "Région                                             \n",
       "Île-de-France                               34556  \n",
       "Centre-Val de Loire                          3748  \n",
       "Bourgogne-Franche-Comté                      3076  \n",
       "Normandie                                    5376  \n",
       "Hauts-de-France                             13664  "
      ]
     },
     "execution_count": 19,
     "metadata": {},
     "output_type": "execute_result"
    }
   ],
   "source": [
    "import pandas\n",
    "\n",
    "regions1968 = pandas.read_csv(\"https://fxjollois.github.io/donnees/regions-csp/regions-csp-1968.csv\",\n",
    "                              index_col = \"Région\")\n",
    "regions1968.head()"
   ]
  },
  {
   "cell_type": "code",
   "execution_count": 20,
   "metadata": {},
   "outputs": [
    {
     "data": {
      "text/html": [
       "<div>\n",
       "<style scoped>\n",
       "    .dataframe tbody tr th:only-of-type {\n",
       "        vertical-align: middle;\n",
       "    }\n",
       "\n",
       "    .dataframe tbody tr th {\n",
       "        vertical-align: top;\n",
       "    }\n",
       "\n",
       "    .dataframe thead th {\n",
       "        text-align: right;\n",
       "    }\n",
       "</style>\n",
       "<table border=\"1\" class=\"dataframe\">\n",
       "  <thead>\n",
       "    <tr style=\"text-align: right;\">\n",
       "      <th></th>\n",
       "      <th>Agriculteurs Actifs ayant un emploi RP2014</th>\n",
       "      <th>Agriculteurs Chômeurs RP2014</th>\n",
       "      <th>Artisans, commerçants, chefs d'entreprise Actifs ayant un emploi RP2014</th>\n",
       "      <th>Artisans, commerçants, chefs d'entreprise Chômeurs RP2014</th>\n",
       "      <th>Cadres et professions intellectuelles supérieures Actifs ayant un emploi RP2014</th>\n",
       "      <th>Cadres et professions intellectuelles supérieures Chômeurs RP2014</th>\n",
       "      <th>Professions intermédiaires Actifs ayant un emploi RP2014</th>\n",
       "      <th>Professions intermédiaires Chômeurs RP2014</th>\n",
       "      <th>Employés Actifs ayant un emploi RP2014</th>\n",
       "      <th>Employés Chômeurs RP2014</th>\n",
       "      <th>Ouvriers Actifs ayant un emploi RP2014</th>\n",
       "      <th>Ouvriers Chômeurs RP2014</th>\n",
       "    </tr>\n",
       "    <tr>\n",
       "      <th>Région</th>\n",
       "      <th></th>\n",
       "      <th></th>\n",
       "      <th></th>\n",
       "      <th></th>\n",
       "      <th></th>\n",
       "      <th></th>\n",
       "      <th></th>\n",
       "      <th></th>\n",
       "      <th></th>\n",
       "      <th></th>\n",
       "      <th></th>\n",
       "      <th></th>\n",
       "    </tr>\n",
       "  </thead>\n",
       "  <tbody>\n",
       "    <tr>\n",
       "      <th>Île-de-France</th>\n",
       "      <td>3373.297125</td>\n",
       "      <td>195.053895</td>\n",
       "      <td>203747.801541</td>\n",
       "      <td>17112.882402</td>\n",
       "      <td>1.287917e+06</td>\n",
       "      <td>61943.340704</td>\n",
       "      <td>1.095707e+06</td>\n",
       "      <td>120136.339854</td>\n",
       "      <td>1.017211e+06</td>\n",
       "      <td>171489.384828</td>\n",
       "      <td>521635.119285</td>\n",
       "      <td>112144.255513</td>\n",
       "    </tr>\n",
       "    <tr>\n",
       "      <th>Centre-Val de Loire</th>\n",
       "      <td>13731.136316</td>\n",
       "      <td>164.913387</td>\n",
       "      <td>47577.256270</td>\n",
       "      <td>3168.849596</td>\n",
       "      <td>1.087993e+05</td>\n",
       "      <td>4139.710087</td>\n",
       "      <td>2.100894e+05</td>\n",
       "      <td>16730.919522</td>\n",
       "      <td>2.187664e+05</td>\n",
       "      <td>32895.248697</td>\n",
       "      <td>184516.579228</td>\n",
       "      <td>36237.921528</td>\n",
       "    </tr>\n",
       "    <tr>\n",
       "      <th>Bourgogne-Franche-Comté</th>\n",
       "      <td>20314.763142</td>\n",
       "      <td>177.683361</td>\n",
       "      <td>53729.925925</td>\n",
       "      <td>3471.206196</td>\n",
       "      <td>1.053460e+05</td>\n",
       "      <td>3894.747983</td>\n",
       "      <td>2.218569e+05</td>\n",
       "      <td>17036.689778</td>\n",
       "      <td>2.271630e+05</td>\n",
       "      <td>34036.105976</td>\n",
       "      <td>219598.002062</td>\n",
       "      <td>42277.992665</td>\n",
       "    </tr>\n",
       "    <tr>\n",
       "      <th>Normandie</th>\n",
       "      <td>19265.892020</td>\n",
       "      <td>162.360831</td>\n",
       "      <td>61807.703240</td>\n",
       "      <td>4309.923695</td>\n",
       "      <td>1.257314e+05</td>\n",
       "      <td>4575.836184</td>\n",
       "      <td>2.655183e+05</td>\n",
       "      <td>21068.120831</td>\n",
       "      <td>2.796448e+05</td>\n",
       "      <td>47312.820231</td>\n",
       "      <td>250432.208276</td>\n",
       "      <td>50014.556203</td>\n",
       "    </tr>\n",
       "    <tr>\n",
       "      <th>Hauts-de-France</th>\n",
       "      <td>17767.070961</td>\n",
       "      <td>184.594238</td>\n",
       "      <td>87398.160828</td>\n",
       "      <td>8462.259655</td>\n",
       "      <td>2.480851e+05</td>\n",
       "      <td>9086.003241</td>\n",
       "      <td>4.721263e+05</td>\n",
       "      <td>42533.984972</td>\n",
       "      <td>4.992887e+05</td>\n",
       "      <td>98340.151953</td>\n",
       "      <td>436388.567456</td>\n",
       "      <td>118181.606481</td>\n",
       "    </tr>\n",
       "  </tbody>\n",
       "</table>\n",
       "</div>"
      ],
      "text/plain": [
       "                         Agriculteurs Actifs ayant un emploi RP2014  \\\n",
       "Région                                                                \n",
       "Île-de-France                                           3373.297125   \n",
       "Centre-Val de Loire                                    13731.136316   \n",
       "Bourgogne-Franche-Comté                                20314.763142   \n",
       "Normandie                                              19265.892020   \n",
       "Hauts-de-France                                        17767.070961   \n",
       "\n",
       "                         Agriculteurs Chômeurs RP2014  \\\n",
       "Région                                                  \n",
       "Île-de-France                              195.053895   \n",
       "Centre-Val de Loire                        164.913387   \n",
       "Bourgogne-Franche-Comté                    177.683361   \n",
       "Normandie                                  162.360831   \n",
       "Hauts-de-France                            184.594238   \n",
       "\n",
       "                         Artisans, commerçants, chefs d'entreprise Actifs ayant un emploi RP2014  \\\n",
       "Région                                                                                             \n",
       "Île-de-France                                                203747.801541                         \n",
       "Centre-Val de Loire                                           47577.256270                         \n",
       "Bourgogne-Franche-Comté                                       53729.925925                         \n",
       "Normandie                                                     61807.703240                         \n",
       "Hauts-de-France                                               87398.160828                         \n",
       "\n",
       "                         Artisans, commerçants, chefs d'entreprise Chômeurs RP2014  \\\n",
       "Région                                                                               \n",
       "Île-de-France                                                 17112.882402           \n",
       "Centre-Val de Loire                                            3168.849596           \n",
       "Bourgogne-Franche-Comté                                        3471.206196           \n",
       "Normandie                                                      4309.923695           \n",
       "Hauts-de-France                                                8462.259655           \n",
       "\n",
       "                         Cadres et professions intellectuelles supérieures Actifs ayant un emploi RP2014  \\\n",
       "Région                                                                                                     \n",
       "Île-de-France                                                 1.287917e+06                                 \n",
       "Centre-Val de Loire                                           1.087993e+05                                 \n",
       "Bourgogne-Franche-Comté                                       1.053460e+05                                 \n",
       "Normandie                                                     1.257314e+05                                 \n",
       "Hauts-de-France                                               2.480851e+05                                 \n",
       "\n",
       "                         Cadres et professions intellectuelles supérieures Chômeurs RP2014  \\\n",
       "Région                                                                                       \n",
       "Île-de-France                                                 61943.340704                   \n",
       "Centre-Val de Loire                                            4139.710087                   \n",
       "Bourgogne-Franche-Comté                                        3894.747983                   \n",
       "Normandie                                                      4575.836184                   \n",
       "Hauts-de-France                                                9086.003241                   \n",
       "\n",
       "                         Professions intermédiaires Actifs ayant un emploi RP2014  \\\n",
       "Région                                                                              \n",
       "Île-de-France                                                 1.095707e+06          \n",
       "Centre-Val de Loire                                           2.100894e+05          \n",
       "Bourgogne-Franche-Comté                                       2.218569e+05          \n",
       "Normandie                                                     2.655183e+05          \n",
       "Hauts-de-France                                               4.721263e+05          \n",
       "\n",
       "                         Professions intermédiaires Chômeurs RP2014  \\\n",
       "Région                                                                \n",
       "Île-de-France                                         120136.339854   \n",
       "Centre-Val de Loire                                    16730.919522   \n",
       "Bourgogne-Franche-Comté                                17036.689778   \n",
       "Normandie                                              21068.120831   \n",
       "Hauts-de-France                                        42533.984972   \n",
       "\n",
       "                         Employés Actifs ayant un emploi RP2014  \\\n",
       "Région                                                            \n",
       "Île-de-France                                      1.017211e+06   \n",
       "Centre-Val de Loire                                2.187664e+05   \n",
       "Bourgogne-Franche-Comté                            2.271630e+05   \n",
       "Normandie                                          2.796448e+05   \n",
       "Hauts-de-France                                    4.992887e+05   \n",
       "\n",
       "                         Employés Chômeurs RP2014  \\\n",
       "Région                                              \n",
       "Île-de-France                       171489.384828   \n",
       "Centre-Val de Loire                  32895.248697   \n",
       "Bourgogne-Franche-Comté              34036.105976   \n",
       "Normandie                            47312.820231   \n",
       "Hauts-de-France                      98340.151953   \n",
       "\n",
       "                         Ouvriers Actifs ayant un emploi RP2014  \\\n",
       "Région                                                            \n",
       "Île-de-France                                     521635.119285   \n",
       "Centre-Val de Loire                               184516.579228   \n",
       "Bourgogne-Franche-Comté                           219598.002062   \n",
       "Normandie                                         250432.208276   \n",
       "Hauts-de-France                                   436388.567456   \n",
       "\n",
       "                         Ouvriers Chômeurs RP2014  \n",
       "Région                                             \n",
       "Île-de-France                       112144.255513  \n",
       "Centre-Val de Loire                  36237.921528  \n",
       "Bourgogne-Franche-Comté              42277.992665  \n",
       "Normandie                            50014.556203  \n",
       "Hauts-de-France                     118181.606481  "
      ]
     },
     "execution_count": 20,
     "metadata": {},
     "output_type": "execute_result"
    }
   ],
   "source": [
    "regions2014 = pandas.read_csv(\"https://fxjollois.github.io/donnees/regions-csp/regions-csp-2014.csv\",\n",
    "                              index_col = \"Région\")\n",
    "regions2014.head()"
   ]
  },
  {
   "cell_type": "markdown",
   "metadata": {},
   "source": [
    "### Travail à faire\n",
    "\n",
    "- Réaliser une AFC sur le croisement entre la catégorie socioprofessionnelle et la région\n",
    "    - pour 1968\n",
    "    - pour 2014\n",
    "- A l’aide des outils à votre disposition (tableaux et graphiques),\n",
    "    - Décrire la situation pour chaque année,\n",
    "    - Comparer les deux situations"
   ]
  }
 ],
 "metadata": {
  "celltoolbar": "Aucun(e)",
  "kernelspec": {
   "display_name": "Python 3 (ipykernel)",
   "language": "python",
   "name": "python3"
  },
  "language_info": {
   "codemirror_mode": {
    "name": "ipython",
    "version": 3
   },
   "file_extension": ".py",
   "mimetype": "text/x-python",
   "name": "python",
   "nbconvert_exporter": "python",
   "pygments_lexer": "ipython3",
   "version": "3.9.9"
  }
 },
 "nbformat": 4,
 "nbformat_minor": 4
}
